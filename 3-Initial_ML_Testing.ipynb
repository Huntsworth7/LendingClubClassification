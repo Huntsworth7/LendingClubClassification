{
  "nbformat": 4,
  "nbformat_minor": 0,
  "metadata": {
    "colab": {
      "name": "Initial ML Testing.ipynb",
      "provenance": []
    },
    "kernelspec": {
      "name": "python3",
      "display_name": "Python 3"
    }
  },
  "cells": [
    {
      "cell_type": "markdown",
      "metadata": {
        "id": "RIx0khq-_F-g",
        "colab_type": "text"
      },
      "source": [
        "# Testing Different Classifiers"
      ]
    },
    {
      "cell_type": "markdown",
      "metadata": {
        "id": "jaAw0ezi_C6d",
        "colab_type": "text"
      },
      "source": [
        "We will first test out a few different classification algorithms and see what performs best before we try to optimize our hyperparameters."
      ]
    },
    {
      "cell_type": "code",
      "metadata": {
        "id": "M6qIEudO-4eB",
        "colab_type": "code",
        "outputId": "794e3eac-bd70-4504-9840-6577e6c96bc8",
        "colab": {
          "base_uri": "https://localhost:8080/",
          "height": 107
        }
      },
      "source": [
        "import pandas as pd\n",
        "pd.set_option('display.max_columns', None)\n",
        "pd.set_option('display.max_rows', None) \n",
        "import numpy as np \n",
        "from sklearn.linear_model import LogisticRegression\n",
        "from sklearn.model_selection import train_test_split, cross_val_score\n",
        "from sklearn.metrics import roc_auc_score, accuracy_score, confusion_matrix, classification_report\n",
        "from sklearn.preprocessing import StandardScaler\n",
        "from sklearn.ensemble import RandomForestClassifier\n",
        "from sklearn.utils import resample\n",
        "import lightgbm as lgb \n",
        "import seaborn as sns\n",
        "import matplotlib.pyplot as plt \n",
        "from imblearn.over_sampling import SMOTE\n"
      ],
      "execution_count": 1,
      "outputs": [
        {
          "output_type": "stream",
          "text": [
            "/usr/local/lib/python3.6/dist-packages/sklearn/externals/six.py:31: FutureWarning: The module is deprecated in version 0.21 and will be removed in version 0.23 since we've dropped support for Python 2.7. Please rely on the official version of six (https://pypi.org/project/six/).\n",
            "  \"(https://pypi.org/project/six/).\", FutureWarning)\n",
            "/usr/local/lib/python3.6/dist-packages/sklearn/utils/deprecation.py:144: FutureWarning: The sklearn.neighbors.base module is  deprecated in version 0.22 and will be removed in version 0.24. The corresponding classes / functions should instead be imported from sklearn.neighbors. Anything that cannot be imported from sklearn.neighbors is now part of the private API.\n",
            "  warnings.warn(message, FutureWarning)\n"
          ],
          "name": "stderr"
        }
      ]
    },
    {
      "cell_type": "code",
      "metadata": {
        "id": "2ueQGRpr_DwD",
        "colab_type": "code",
        "outputId": "d993e019-7e66-4846-8674-671dbf7a4e5e",
        "colab": {
          "base_uri": "https://localhost:8080/",
          "height": 124
        }
      },
      "source": [
        "from google.colab import drive\n",
        "\n",
        "drive.mount('/content/gdrive')"
      ],
      "execution_count": 2,
      "outputs": [
        {
          "output_type": "stream",
          "text": [
            "Go to this URL in a browser: https://accounts.google.com/o/oauth2/auth?client_id=947318989803-6bn6qk8qdgf4n4g3pfee6491hc0brc4i.apps.googleusercontent.com&redirect_uri=urn%3aietf%3awg%3aoauth%3a2.0%3aoob&response_type=code&scope=email%20https%3a%2f%2fwww.googleapis.com%2fauth%2fdocs.test%20https%3a%2f%2fwww.googleapis.com%2fauth%2fdrive%20https%3a%2f%2fwww.googleapis.com%2fauth%2fdrive.photos.readonly%20https%3a%2f%2fwww.googleapis.com%2fauth%2fpeopleapi.readonly\n",
            "\n",
            "Enter your authorization code:\n",
            "··········\n",
            "Mounted at /content/gdrive\n"
          ],
          "name": "stdout"
        }
      ]
    },
    {
      "cell_type": "code",
      "metadata": {
        "id": "l5nQBzyW_H3p",
        "colab_type": "code",
        "outputId": "e41de3fb-b558-470f-d734-c268370920b8",
        "colab": {
          "base_uri": "https://localhost:8080/",
          "height": 305
        }
      },
      "source": [
        "df = pd.read_csv('/content/gdrive/My Drive/Colab Notebooks/datasets/MLready-lc.csv', index_col='id')\n",
        "df.head()"
      ],
      "execution_count": 3,
      "outputs": [
        {
          "output_type": "stream",
          "text": [
            "/usr/local/lib/python3.6/dist-packages/numpy/lib/arraysetops.py:568: FutureWarning: elementwise comparison failed; returning scalar instead, but in the future will perform elementwise comparison\n",
            "  mask |= (ar1 == a)\n"
          ],
          "name": "stderr"
        },
        {
          "output_type": "execute_result",
          "data": {
            "text/html": [
              "<div>\n",
              "<style scoped>\n",
              "    .dataframe tbody tr th:only-of-type {\n",
              "        vertical-align: middle;\n",
              "    }\n",
              "\n",
              "    .dataframe tbody tr th {\n",
              "        vertical-align: top;\n",
              "    }\n",
              "\n",
              "    .dataframe thead th {\n",
              "        text-align: right;\n",
              "    }\n",
              "</style>\n",
              "<table border=\"1\" class=\"dataframe\">\n",
              "  <thead>\n",
              "    <tr style=\"text-align: right;\">\n",
              "      <th></th>\n",
              "      <th>loan_amnt</th>\n",
              "      <th>term</th>\n",
              "      <th>int_rate</th>\n",
              "      <th>installment</th>\n",
              "      <th>emp_length</th>\n",
              "      <th>annual_inc</th>\n",
              "      <th>dti</th>\n",
              "      <th>delinq_2yrs</th>\n",
              "      <th>fico_range_low</th>\n",
              "      <th>fico_range_high</th>\n",
              "      <th>inq_last_6mths</th>\n",
              "      <th>mths_since_last_delinq</th>\n",
              "      <th>mths_since_last_record</th>\n",
              "      <th>open_acc</th>\n",
              "      <th>pub_rec</th>\n",
              "      <th>revol_bal</th>\n",
              "      <th>revol_util</th>\n",
              "      <th>total_acc</th>\n",
              "      <th>last_fico_range_high</th>\n",
              "      <th>last_fico_range_low</th>\n",
              "      <th>collections_12_mths_ex_med</th>\n",
              "      <th>mths_since_last_major_derog</th>\n",
              "      <th>acc_now_delinq</th>\n",
              "      <th>tot_coll_amt</th>\n",
              "      <th>tot_cur_bal</th>\n",
              "      <th>mths_since_rcnt_il</th>\n",
              "      <th>total_rev_hi_lim</th>\n",
              "      <th>acc_open_past_24mths</th>\n",
              "      <th>avg_cur_bal</th>\n",
              "      <th>bc_open_to_buy</th>\n",
              "      <th>bc_util</th>\n",
              "      <th>chargeoff_within_12_mths</th>\n",
              "      <th>mo_sin_old_il_acct</th>\n",
              "      <th>mo_sin_old_rev_tl_op</th>\n",
              "      <th>mo_sin_rcnt_rev_tl_op</th>\n",
              "      <th>mo_sin_rcnt_tl</th>\n",
              "      <th>mort_acc</th>\n",
              "      <th>mths_since_recent_bc</th>\n",
              "      <th>mths_since_recent_bc_dlq</th>\n",
              "      <th>mths_since_recent_inq</th>\n",
              "      <th>mths_since_recent_revol_delinq</th>\n",
              "      <th>num_accts_ever_120_pd</th>\n",
              "      <th>num_actv_bc_tl</th>\n",
              "      <th>num_actv_rev_tl</th>\n",
              "      <th>num_bc_sats</th>\n",
              "      <th>num_bc_tl</th>\n",
              "      <th>num_il_tl</th>\n",
              "      <th>num_op_rev_tl</th>\n",
              "      <th>num_rev_accts</th>\n",
              "      <th>num_rev_tl_bal_gt_0</th>\n",
              "      <th>num_sats</th>\n",
              "      <th>num_tl_120dpd_2m</th>\n",
              "      <th>num_tl_30dpd</th>\n",
              "      <th>num_tl_90g_dpd_24m</th>\n",
              "      <th>num_tl_op_past_12m</th>\n",
              "      <th>pct_tl_nvr_dlq</th>\n",
              "      <th>percent_bc_gt_75</th>\n",
              "      <th>pub_rec_bankruptcies</th>\n",
              "      <th>tax_liens</th>\n",
              "      <th>tot_hi_cred_lim</th>\n",
              "      <th>total_bal_ex_mort</th>\n",
              "      <th>total_bc_limit</th>\n",
              "      <th>total_il_high_credit_limit</th>\n",
              "      <th>default</th>\n",
              "      <th>index</th>\n",
              "      <th>x0_A</th>\n",
              "      <th>x0_B</th>\n",
              "      <th>x0_C</th>\n",
              "      <th>x0_D</th>\n",
              "      <th>x0_E</th>\n",
              "      <th>x0_F</th>\n",
              "      <th>x0_G</th>\n",
              "      <th>x1_ANY</th>\n",
              "      <th>x1_MORTGAGE</th>\n",
              "      <th>x1_NONE</th>\n",
              "      <th>x1_OWN</th>\n",
              "      <th>x1_RENT</th>\n",
              "      <th>x2_Not Verified</th>\n",
              "      <th>x2_Source Verified</th>\n",
              "      <th>x2_Verified</th>\n",
              "      <th>x3_ANY</th>\n",
              "      <th>x3_MORTGAGE</th>\n",
              "      <th>x3_NONE</th>\n",
              "      <th>x3_OWN</th>\n",
              "      <th>x3_RENT</th>\n",
              "      <th>x4_car</th>\n",
              "      <th>x4_credit_card</th>\n",
              "      <th>x4_debt_consolidation</th>\n",
              "      <th>x4_educational</th>\n",
              "      <th>x4_home_improvement</th>\n",
              "      <th>x4_house</th>\n",
              "      <th>x4_major_purchase</th>\n",
              "      <th>x4_medical</th>\n",
              "      <th>x4_moving</th>\n",
              "      <th>x4_other</th>\n",
              "      <th>x4_renewable_energy</th>\n",
              "      <th>x4_small_business</th>\n",
              "      <th>x4_vacation</th>\n",
              "      <th>x4_wedding</th>\n",
              "    </tr>\n",
              "    <tr>\n",
              "      <th>id</th>\n",
              "      <th></th>\n",
              "      <th></th>\n",
              "      <th></th>\n",
              "      <th></th>\n",
              "      <th></th>\n",
              "      <th></th>\n",
              "      <th></th>\n",
              "      <th></th>\n",
              "      <th></th>\n",
              "      <th></th>\n",
              "      <th></th>\n",
              "      <th></th>\n",
              "      <th></th>\n",
              "      <th></th>\n",
              "      <th></th>\n",
              "      <th></th>\n",
              "      <th></th>\n",
              "      <th></th>\n",
              "      <th></th>\n",
              "      <th></th>\n",
              "      <th></th>\n",
              "      <th></th>\n",
              "      <th></th>\n",
              "      <th></th>\n",
              "      <th></th>\n",
              "      <th></th>\n",
              "      <th></th>\n",
              "      <th></th>\n",
              "      <th></th>\n",
              "      <th></th>\n",
              "      <th></th>\n",
              "      <th></th>\n",
              "      <th></th>\n",
              "      <th></th>\n",
              "      <th></th>\n",
              "      <th></th>\n",
              "      <th></th>\n",
              "      <th></th>\n",
              "      <th></th>\n",
              "      <th></th>\n",
              "      <th></th>\n",
              "      <th></th>\n",
              "      <th></th>\n",
              "      <th></th>\n",
              "      <th></th>\n",
              "      <th></th>\n",
              "      <th></th>\n",
              "      <th></th>\n",
              "      <th></th>\n",
              "      <th></th>\n",
              "      <th></th>\n",
              "      <th></th>\n",
              "      <th></th>\n",
              "      <th></th>\n",
              "      <th></th>\n",
              "      <th></th>\n",
              "      <th></th>\n",
              "      <th></th>\n",
              "      <th></th>\n",
              "      <th></th>\n",
              "      <th></th>\n",
              "      <th></th>\n",
              "      <th></th>\n",
              "      <th></th>\n",
              "      <th></th>\n",
              "      <th></th>\n",
              "      <th></th>\n",
              "      <th></th>\n",
              "      <th></th>\n",
              "      <th></th>\n",
              "      <th></th>\n",
              "      <th></th>\n",
              "      <th></th>\n",
              "      <th></th>\n",
              "      <th></th>\n",
              "      <th></th>\n",
              "      <th></th>\n",
              "      <th></th>\n",
              "      <th></th>\n",
              "      <th></th>\n",
              "      <th></th>\n",
              "      <th></th>\n",
              "      <th></th>\n",
              "      <th></th>\n",
              "      <th></th>\n",
              "      <th></th>\n",
              "      <th></th>\n",
              "      <th></th>\n",
              "      <th></th>\n",
              "      <th></th>\n",
              "      <th></th>\n",
              "      <th></th>\n",
              "      <th></th>\n",
              "      <th></th>\n",
              "      <th></th>\n",
              "      <th></th>\n",
              "      <th></th>\n",
              "      <th></th>\n",
              "      <th></th>\n",
              "    </tr>\n",
              "  </thead>\n",
              "  <tbody>\n",
              "    <tr>\n",
              "      <th>68407277</th>\n",
              "      <td>3600.0</td>\n",
              "      <td>36</td>\n",
              "      <td>13.99</td>\n",
              "      <td>123.03</td>\n",
              "      <td>10</td>\n",
              "      <td>55000.0</td>\n",
              "      <td>5.91</td>\n",
              "      <td>0.0</td>\n",
              "      <td>675.0</td>\n",
              "      <td>679.0</td>\n",
              "      <td>1.0</td>\n",
              "      <td>30.0</td>\n",
              "      <td>-999.0</td>\n",
              "      <td>7.0</td>\n",
              "      <td>0.0</td>\n",
              "      <td>2765.0</td>\n",
              "      <td>29.7</td>\n",
              "      <td>13.0</td>\n",
              "      <td>564.0</td>\n",
              "      <td>560.0</td>\n",
              "      <td>0.0</td>\n",
              "      <td>30.0</td>\n",
              "      <td>0.0</td>\n",
              "      <td>722.0</td>\n",
              "      <td>144904.0</td>\n",
              "      <td>21.0</td>\n",
              "      <td>9300.0</td>\n",
              "      <td>4.0</td>\n",
              "      <td>20701.0</td>\n",
              "      <td>1506.0</td>\n",
              "      <td>37.2</td>\n",
              "      <td>0.0</td>\n",
              "      <td>148.0</td>\n",
              "      <td>128.0</td>\n",
              "      <td>3.0</td>\n",
              "      <td>3.0</td>\n",
              "      <td>1.0</td>\n",
              "      <td>4.0</td>\n",
              "      <td>69.0</td>\n",
              "      <td>4.0</td>\n",
              "      <td>69.0</td>\n",
              "      <td>2.0</td>\n",
              "      <td>2.0</td>\n",
              "      <td>4.0</td>\n",
              "      <td>2.0</td>\n",
              "      <td>5.0</td>\n",
              "      <td>3.0</td>\n",
              "      <td>4.0</td>\n",
              "      <td>9.0</td>\n",
              "      <td>4.0</td>\n",
              "      <td>7.0</td>\n",
              "      <td>0.0</td>\n",
              "      <td>0.0</td>\n",
              "      <td>0.0</td>\n",
              "      <td>3.0</td>\n",
              "      <td>76.9</td>\n",
              "      <td>0.0</td>\n",
              "      <td>0.0</td>\n",
              "      <td>0.0</td>\n",
              "      <td>178050.0</td>\n",
              "      <td>7746.0</td>\n",
              "      <td>2400.0</td>\n",
              "      <td>13734.0</td>\n",
              "      <td>0</td>\n",
              "      <td>0</td>\n",
              "      <td>0.0</td>\n",
              "      <td>0.0</td>\n",
              "      <td>1.0</td>\n",
              "      <td>0.0</td>\n",
              "      <td>0.0</td>\n",
              "      <td>0.0</td>\n",
              "      <td>0.0</td>\n",
              "      <td>0.0</td>\n",
              "      <td>1.0</td>\n",
              "      <td>0.0</td>\n",
              "      <td>0.0</td>\n",
              "      <td>0.0</td>\n",
              "      <td>1.0</td>\n",
              "      <td>0.0</td>\n",
              "      <td>0.0</td>\n",
              "      <td>0.0</td>\n",
              "      <td>1.0</td>\n",
              "      <td>0.0</td>\n",
              "      <td>0.0</td>\n",
              "      <td>0.0</td>\n",
              "      <td>0.0</td>\n",
              "      <td>0.0</td>\n",
              "      <td>1.0</td>\n",
              "      <td>0.0</td>\n",
              "      <td>0.0</td>\n",
              "      <td>0.0</td>\n",
              "      <td>0.0</td>\n",
              "      <td>0.0</td>\n",
              "      <td>0.0</td>\n",
              "      <td>0.0</td>\n",
              "      <td>0.0</td>\n",
              "      <td>0.0</td>\n",
              "      <td>0.0</td>\n",
              "      <td>0.0</td>\n",
              "    </tr>\n",
              "    <tr>\n",
              "      <th>68355089</th>\n",
              "      <td>24700.0</td>\n",
              "      <td>36</td>\n",
              "      <td>11.99</td>\n",
              "      <td>820.28</td>\n",
              "      <td>10</td>\n",
              "      <td>65000.0</td>\n",
              "      <td>16.06</td>\n",
              "      <td>1.0</td>\n",
              "      <td>715.0</td>\n",
              "      <td>719.0</td>\n",
              "      <td>4.0</td>\n",
              "      <td>6.0</td>\n",
              "      <td>-999.0</td>\n",
              "      <td>22.0</td>\n",
              "      <td>0.0</td>\n",
              "      <td>21470.0</td>\n",
              "      <td>19.2</td>\n",
              "      <td>38.0</td>\n",
              "      <td>699.0</td>\n",
              "      <td>695.0</td>\n",
              "      <td>0.0</td>\n",
              "      <td>-999.0</td>\n",
              "      <td>0.0</td>\n",
              "      <td>0.0</td>\n",
              "      <td>204396.0</td>\n",
              "      <td>19.0</td>\n",
              "      <td>111800.0</td>\n",
              "      <td>4.0</td>\n",
              "      <td>9733.0</td>\n",
              "      <td>57830.0</td>\n",
              "      <td>27.1</td>\n",
              "      <td>0.0</td>\n",
              "      <td>113.0</td>\n",
              "      <td>192.0</td>\n",
              "      <td>2.0</td>\n",
              "      <td>2.0</td>\n",
              "      <td>4.0</td>\n",
              "      <td>2.0</td>\n",
              "      <td>-999.0</td>\n",
              "      <td>0.0</td>\n",
              "      <td>6.0</td>\n",
              "      <td>0.0</td>\n",
              "      <td>5.0</td>\n",
              "      <td>5.0</td>\n",
              "      <td>13.0</td>\n",
              "      <td>17.0</td>\n",
              "      <td>6.0</td>\n",
              "      <td>20.0</td>\n",
              "      <td>27.0</td>\n",
              "      <td>5.0</td>\n",
              "      <td>22.0</td>\n",
              "      <td>0.0</td>\n",
              "      <td>0.0</td>\n",
              "      <td>0.0</td>\n",
              "      <td>2.0</td>\n",
              "      <td>97.4</td>\n",
              "      <td>7.7</td>\n",
              "      <td>0.0</td>\n",
              "      <td>0.0</td>\n",
              "      <td>314017.0</td>\n",
              "      <td>39475.0</td>\n",
              "      <td>79300.0</td>\n",
              "      <td>24667.0</td>\n",
              "      <td>0</td>\n",
              "      <td>1</td>\n",
              "      <td>0.0</td>\n",
              "      <td>0.0</td>\n",
              "      <td>1.0</td>\n",
              "      <td>0.0</td>\n",
              "      <td>0.0</td>\n",
              "      <td>0.0</td>\n",
              "      <td>0.0</td>\n",
              "      <td>0.0</td>\n",
              "      <td>1.0</td>\n",
              "      <td>0.0</td>\n",
              "      <td>0.0</td>\n",
              "      <td>0.0</td>\n",
              "      <td>1.0</td>\n",
              "      <td>0.0</td>\n",
              "      <td>0.0</td>\n",
              "      <td>0.0</td>\n",
              "      <td>1.0</td>\n",
              "      <td>0.0</td>\n",
              "      <td>0.0</td>\n",
              "      <td>0.0</td>\n",
              "      <td>0.0</td>\n",
              "      <td>0.0</td>\n",
              "      <td>0.0</td>\n",
              "      <td>0.0</td>\n",
              "      <td>0.0</td>\n",
              "      <td>0.0</td>\n",
              "      <td>0.0</td>\n",
              "      <td>0.0</td>\n",
              "      <td>0.0</td>\n",
              "      <td>0.0</td>\n",
              "      <td>0.0</td>\n",
              "      <td>1.0</td>\n",
              "      <td>0.0</td>\n",
              "      <td>0.0</td>\n",
              "    </tr>\n",
              "    <tr>\n",
              "      <th>66310712</th>\n",
              "      <td>35000.0</td>\n",
              "      <td>60</td>\n",
              "      <td>14.85</td>\n",
              "      <td>829.90</td>\n",
              "      <td>10</td>\n",
              "      <td>110000.0</td>\n",
              "      <td>17.06</td>\n",
              "      <td>0.0</td>\n",
              "      <td>785.0</td>\n",
              "      <td>789.0</td>\n",
              "      <td>0.0</td>\n",
              "      <td>-999.0</td>\n",
              "      <td>-999.0</td>\n",
              "      <td>13.0</td>\n",
              "      <td>0.0</td>\n",
              "      <td>7802.0</td>\n",
              "      <td>11.6</td>\n",
              "      <td>17.0</td>\n",
              "      <td>679.0</td>\n",
              "      <td>675.0</td>\n",
              "      <td>0.0</td>\n",
              "      <td>-999.0</td>\n",
              "      <td>0.0</td>\n",
              "      <td>0.0</td>\n",
              "      <td>301500.0</td>\n",
              "      <td>23.0</td>\n",
              "      <td>67300.0</td>\n",
              "      <td>2.0</td>\n",
              "      <td>23192.0</td>\n",
              "      <td>54962.0</td>\n",
              "      <td>12.1</td>\n",
              "      <td>0.0</td>\n",
              "      <td>36.0</td>\n",
              "      <td>87.0</td>\n",
              "      <td>2.0</td>\n",
              "      <td>2.0</td>\n",
              "      <td>1.0</td>\n",
              "      <td>2.0</td>\n",
              "      <td>-999.0</td>\n",
              "      <td>-999.0</td>\n",
              "      <td>-999.0</td>\n",
              "      <td>0.0</td>\n",
              "      <td>4.0</td>\n",
              "      <td>5.0</td>\n",
              "      <td>8.0</td>\n",
              "      <td>10.0</td>\n",
              "      <td>2.0</td>\n",
              "      <td>10.0</td>\n",
              "      <td>13.0</td>\n",
              "      <td>5.0</td>\n",
              "      <td>13.0</td>\n",
              "      <td>0.0</td>\n",
              "      <td>0.0</td>\n",
              "      <td>0.0</td>\n",
              "      <td>1.0</td>\n",
              "      <td>100.0</td>\n",
              "      <td>0.0</td>\n",
              "      <td>0.0</td>\n",
              "      <td>0.0</td>\n",
              "      <td>381215.0</td>\n",
              "      <td>52226.0</td>\n",
              "      <td>62500.0</td>\n",
              "      <td>18000.0</td>\n",
              "      <td>0</td>\n",
              "      <td>2</td>\n",
              "      <td>0.0</td>\n",
              "      <td>0.0</td>\n",
              "      <td>1.0</td>\n",
              "      <td>0.0</td>\n",
              "      <td>0.0</td>\n",
              "      <td>0.0</td>\n",
              "      <td>0.0</td>\n",
              "      <td>0.0</td>\n",
              "      <td>1.0</td>\n",
              "      <td>0.0</td>\n",
              "      <td>0.0</td>\n",
              "      <td>0.0</td>\n",
              "      <td>0.0</td>\n",
              "      <td>1.0</td>\n",
              "      <td>0.0</td>\n",
              "      <td>0.0</td>\n",
              "      <td>1.0</td>\n",
              "      <td>0.0</td>\n",
              "      <td>0.0</td>\n",
              "      <td>0.0</td>\n",
              "      <td>0.0</td>\n",
              "      <td>0.0</td>\n",
              "      <td>1.0</td>\n",
              "      <td>0.0</td>\n",
              "      <td>0.0</td>\n",
              "      <td>0.0</td>\n",
              "      <td>0.0</td>\n",
              "      <td>0.0</td>\n",
              "      <td>0.0</td>\n",
              "      <td>0.0</td>\n",
              "      <td>0.0</td>\n",
              "      <td>0.0</td>\n",
              "      <td>0.0</td>\n",
              "      <td>0.0</td>\n",
              "    </tr>\n",
              "    <tr>\n",
              "      <th>68476807</th>\n",
              "      <td>10400.0</td>\n",
              "      <td>60</td>\n",
              "      <td>22.45</td>\n",
              "      <td>289.91</td>\n",
              "      <td>3</td>\n",
              "      <td>104433.0</td>\n",
              "      <td>25.37</td>\n",
              "      <td>1.0</td>\n",
              "      <td>695.0</td>\n",
              "      <td>699.0</td>\n",
              "      <td>3.0</td>\n",
              "      <td>12.0</td>\n",
              "      <td>-999.0</td>\n",
              "      <td>12.0</td>\n",
              "      <td>0.0</td>\n",
              "      <td>21929.0</td>\n",
              "      <td>64.5</td>\n",
              "      <td>35.0</td>\n",
              "      <td>704.0</td>\n",
              "      <td>700.0</td>\n",
              "      <td>0.0</td>\n",
              "      <td>-999.0</td>\n",
              "      <td>0.0</td>\n",
              "      <td>0.0</td>\n",
              "      <td>331730.0</td>\n",
              "      <td>14.0</td>\n",
              "      <td>34000.0</td>\n",
              "      <td>10.0</td>\n",
              "      <td>27644.0</td>\n",
              "      <td>4567.0</td>\n",
              "      <td>77.5</td>\n",
              "      <td>0.0</td>\n",
              "      <td>128.0</td>\n",
              "      <td>210.0</td>\n",
              "      <td>4.0</td>\n",
              "      <td>4.0</td>\n",
              "      <td>6.0</td>\n",
              "      <td>4.0</td>\n",
              "      <td>12.0</td>\n",
              "      <td>1.0</td>\n",
              "      <td>12.0</td>\n",
              "      <td>0.0</td>\n",
              "      <td>4.0</td>\n",
              "      <td>6.0</td>\n",
              "      <td>5.0</td>\n",
              "      <td>9.0</td>\n",
              "      <td>10.0</td>\n",
              "      <td>7.0</td>\n",
              "      <td>19.0</td>\n",
              "      <td>6.0</td>\n",
              "      <td>12.0</td>\n",
              "      <td>0.0</td>\n",
              "      <td>0.0</td>\n",
              "      <td>0.0</td>\n",
              "      <td>4.0</td>\n",
              "      <td>96.6</td>\n",
              "      <td>60.0</td>\n",
              "      <td>0.0</td>\n",
              "      <td>0.0</td>\n",
              "      <td>439570.0</td>\n",
              "      <td>95768.0</td>\n",
              "      <td>20300.0</td>\n",
              "      <td>88097.0</td>\n",
              "      <td>0</td>\n",
              "      <td>3</td>\n",
              "      <td>0.0</td>\n",
              "      <td>0.0</td>\n",
              "      <td>0.0</td>\n",
              "      <td>0.0</td>\n",
              "      <td>0.0</td>\n",
              "      <td>1.0</td>\n",
              "      <td>0.0</td>\n",
              "      <td>0.0</td>\n",
              "      <td>1.0</td>\n",
              "      <td>0.0</td>\n",
              "      <td>0.0</td>\n",
              "      <td>0.0</td>\n",
              "      <td>0.0</td>\n",
              "      <td>1.0</td>\n",
              "      <td>0.0</td>\n",
              "      <td>0.0</td>\n",
              "      <td>1.0</td>\n",
              "      <td>0.0</td>\n",
              "      <td>0.0</td>\n",
              "      <td>0.0</td>\n",
              "      <td>0.0</td>\n",
              "      <td>0.0</td>\n",
              "      <td>0.0</td>\n",
              "      <td>0.0</td>\n",
              "      <td>0.0</td>\n",
              "      <td>0.0</td>\n",
              "      <td>1.0</td>\n",
              "      <td>0.0</td>\n",
              "      <td>0.0</td>\n",
              "      <td>0.0</td>\n",
              "      <td>0.0</td>\n",
              "      <td>0.0</td>\n",
              "      <td>0.0</td>\n",
              "      <td>0.0</td>\n",
              "    </tr>\n",
              "    <tr>\n",
              "      <th>68426831</th>\n",
              "      <td>11950.0</td>\n",
              "      <td>36</td>\n",
              "      <td>13.44</td>\n",
              "      <td>405.18</td>\n",
              "      <td>4</td>\n",
              "      <td>34000.0</td>\n",
              "      <td>10.20</td>\n",
              "      <td>0.0</td>\n",
              "      <td>690.0</td>\n",
              "      <td>694.0</td>\n",
              "      <td>0.0</td>\n",
              "      <td>-999.0</td>\n",
              "      <td>-999.0</td>\n",
              "      <td>5.0</td>\n",
              "      <td>0.0</td>\n",
              "      <td>8822.0</td>\n",
              "      <td>68.4</td>\n",
              "      <td>6.0</td>\n",
              "      <td>759.0</td>\n",
              "      <td>755.0</td>\n",
              "      <td>0.0</td>\n",
              "      <td>-999.0</td>\n",
              "      <td>0.0</td>\n",
              "      <td>0.0</td>\n",
              "      <td>12798.0</td>\n",
              "      <td>338.0</td>\n",
              "      <td>12900.0</td>\n",
              "      <td>0.0</td>\n",
              "      <td>2560.0</td>\n",
              "      <td>844.0</td>\n",
              "      <td>91.0</td>\n",
              "      <td>0.0</td>\n",
              "      <td>338.0</td>\n",
              "      <td>54.0</td>\n",
              "      <td>32.0</td>\n",
              "      <td>32.0</td>\n",
              "      <td>0.0</td>\n",
              "      <td>36.0</td>\n",
              "      <td>-999.0</td>\n",
              "      <td>-999.0</td>\n",
              "      <td>-999.0</td>\n",
              "      <td>0.0</td>\n",
              "      <td>2.0</td>\n",
              "      <td>3.0</td>\n",
              "      <td>2.0</td>\n",
              "      <td>2.0</td>\n",
              "      <td>2.0</td>\n",
              "      <td>4.0</td>\n",
              "      <td>4.0</td>\n",
              "      <td>3.0</td>\n",
              "      <td>5.0</td>\n",
              "      <td>0.0</td>\n",
              "      <td>0.0</td>\n",
              "      <td>0.0</td>\n",
              "      <td>0.0</td>\n",
              "      <td>100.0</td>\n",
              "      <td>100.0</td>\n",
              "      <td>0.0</td>\n",
              "      <td>0.0</td>\n",
              "      <td>16900.0</td>\n",
              "      <td>12798.0</td>\n",
              "      <td>9400.0</td>\n",
              "      <td>4000.0</td>\n",
              "      <td>0</td>\n",
              "      <td>4</td>\n",
              "      <td>0.0</td>\n",
              "      <td>0.0</td>\n",
              "      <td>1.0</td>\n",
              "      <td>0.0</td>\n",
              "      <td>0.0</td>\n",
              "      <td>0.0</td>\n",
              "      <td>0.0</td>\n",
              "      <td>0.0</td>\n",
              "      <td>0.0</td>\n",
              "      <td>0.0</td>\n",
              "      <td>0.0</td>\n",
              "      <td>1.0</td>\n",
              "      <td>0.0</td>\n",
              "      <td>1.0</td>\n",
              "      <td>0.0</td>\n",
              "      <td>0.0</td>\n",
              "      <td>0.0</td>\n",
              "      <td>0.0</td>\n",
              "      <td>0.0</td>\n",
              "      <td>1.0</td>\n",
              "      <td>0.0</td>\n",
              "      <td>0.0</td>\n",
              "      <td>1.0</td>\n",
              "      <td>0.0</td>\n",
              "      <td>0.0</td>\n",
              "      <td>0.0</td>\n",
              "      <td>0.0</td>\n",
              "      <td>0.0</td>\n",
              "      <td>0.0</td>\n",
              "      <td>0.0</td>\n",
              "      <td>0.0</td>\n",
              "      <td>0.0</td>\n",
              "      <td>0.0</td>\n",
              "      <td>0.0</td>\n",
              "    </tr>\n",
              "  </tbody>\n",
              "</table>\n",
              "</div>"
            ],
            "text/plain": [
              "          loan_amnt  term  int_rate  installment  emp_length  annual_inc  \\\n",
              "id                                                                         \n",
              "68407277     3600.0    36     13.99       123.03          10     55000.0   \n",
              "68355089    24700.0    36     11.99       820.28          10     65000.0   \n",
              "66310712    35000.0    60     14.85       829.90          10    110000.0   \n",
              "68476807    10400.0    60     22.45       289.91           3    104433.0   \n",
              "68426831    11950.0    36     13.44       405.18           4     34000.0   \n",
              "\n",
              "            dti  delinq_2yrs  fico_range_low  fico_range_high  inq_last_6mths  \\\n",
              "id                                                                              \n",
              "68407277   5.91          0.0           675.0            679.0             1.0   \n",
              "68355089  16.06          1.0           715.0            719.0             4.0   \n",
              "66310712  17.06          0.0           785.0            789.0             0.0   \n",
              "68476807  25.37          1.0           695.0            699.0             3.0   \n",
              "68426831  10.20          0.0           690.0            694.0             0.0   \n",
              "\n",
              "          mths_since_last_delinq  mths_since_last_record  open_acc  pub_rec  \\\n",
              "id                                                                            \n",
              "68407277                    30.0                  -999.0       7.0      0.0   \n",
              "68355089                     6.0                  -999.0      22.0      0.0   \n",
              "66310712                  -999.0                  -999.0      13.0      0.0   \n",
              "68476807                    12.0                  -999.0      12.0      0.0   \n",
              "68426831                  -999.0                  -999.0       5.0      0.0   \n",
              "\n",
              "          revol_bal  revol_util  total_acc  last_fico_range_high  \\\n",
              "id                                                                 \n",
              "68407277     2765.0        29.7       13.0                 564.0   \n",
              "68355089    21470.0        19.2       38.0                 699.0   \n",
              "66310712     7802.0        11.6       17.0                 679.0   \n",
              "68476807    21929.0        64.5       35.0                 704.0   \n",
              "68426831     8822.0        68.4        6.0                 759.0   \n",
              "\n",
              "          last_fico_range_low  collections_12_mths_ex_med  \\\n",
              "id                                                          \n",
              "68407277                560.0                         0.0   \n",
              "68355089                695.0                         0.0   \n",
              "66310712                675.0                         0.0   \n",
              "68476807                700.0                         0.0   \n",
              "68426831                755.0                         0.0   \n",
              "\n",
              "          mths_since_last_major_derog  acc_now_delinq  tot_coll_amt  \\\n",
              "id                                                                    \n",
              "68407277                         30.0             0.0         722.0   \n",
              "68355089                       -999.0             0.0           0.0   \n",
              "66310712                       -999.0             0.0           0.0   \n",
              "68476807                       -999.0             0.0           0.0   \n",
              "68426831                       -999.0             0.0           0.0   \n",
              "\n",
              "          tot_cur_bal  mths_since_rcnt_il  total_rev_hi_lim  \\\n",
              "id                                                            \n",
              "68407277     144904.0                21.0            9300.0   \n",
              "68355089     204396.0                19.0          111800.0   \n",
              "66310712     301500.0                23.0           67300.0   \n",
              "68476807     331730.0                14.0           34000.0   \n",
              "68426831      12798.0               338.0           12900.0   \n",
              "\n",
              "          acc_open_past_24mths  avg_cur_bal  bc_open_to_buy  bc_util  \\\n",
              "id                                                                     \n",
              "68407277                   4.0      20701.0          1506.0     37.2   \n",
              "68355089                   4.0       9733.0         57830.0     27.1   \n",
              "66310712                   2.0      23192.0         54962.0     12.1   \n",
              "68476807                  10.0      27644.0          4567.0     77.5   \n",
              "68426831                   0.0       2560.0           844.0     91.0   \n",
              "\n",
              "          chargeoff_within_12_mths  mo_sin_old_il_acct  mo_sin_old_rev_tl_op  \\\n",
              "id                                                                             \n",
              "68407277                       0.0               148.0                 128.0   \n",
              "68355089                       0.0               113.0                 192.0   \n",
              "66310712                       0.0                36.0                  87.0   \n",
              "68476807                       0.0               128.0                 210.0   \n",
              "68426831                       0.0               338.0                  54.0   \n",
              "\n",
              "          mo_sin_rcnt_rev_tl_op  mo_sin_rcnt_tl  mort_acc  \\\n",
              "id                                                          \n",
              "68407277                    3.0             3.0       1.0   \n",
              "68355089                    2.0             2.0       4.0   \n",
              "66310712                    2.0             2.0       1.0   \n",
              "68476807                    4.0             4.0       6.0   \n",
              "68426831                   32.0            32.0       0.0   \n",
              "\n",
              "          mths_since_recent_bc  mths_since_recent_bc_dlq  \\\n",
              "id                                                         \n",
              "68407277                   4.0                      69.0   \n",
              "68355089                   2.0                    -999.0   \n",
              "66310712                   2.0                    -999.0   \n",
              "68476807                   4.0                      12.0   \n",
              "68426831                  36.0                    -999.0   \n",
              "\n",
              "          mths_since_recent_inq  mths_since_recent_revol_delinq  \\\n",
              "id                                                                \n",
              "68407277                    4.0                            69.0   \n",
              "68355089                    0.0                             6.0   \n",
              "66310712                 -999.0                          -999.0   \n",
              "68476807                    1.0                            12.0   \n",
              "68426831                 -999.0                          -999.0   \n",
              "\n",
              "          num_accts_ever_120_pd  num_actv_bc_tl  num_actv_rev_tl  num_bc_sats  \\\n",
              "id                                                                              \n",
              "68407277                    2.0             2.0              4.0          2.0   \n",
              "68355089                    0.0             5.0              5.0         13.0   \n",
              "66310712                    0.0             4.0              5.0          8.0   \n",
              "68476807                    0.0             4.0              6.0          5.0   \n",
              "68426831                    0.0             2.0              3.0          2.0   \n",
              "\n",
              "          num_bc_tl  num_il_tl  num_op_rev_tl  num_rev_accts  \\\n",
              "id                                                             \n",
              "68407277        5.0        3.0            4.0            9.0   \n",
              "68355089       17.0        6.0           20.0           27.0   \n",
              "66310712       10.0        2.0           10.0           13.0   \n",
              "68476807        9.0       10.0            7.0           19.0   \n",
              "68426831        2.0        2.0            4.0            4.0   \n",
              "\n",
              "          num_rev_tl_bal_gt_0  num_sats  num_tl_120dpd_2m  num_tl_30dpd  \\\n",
              "id                                                                        \n",
              "68407277                  4.0       7.0               0.0           0.0   \n",
              "68355089                  5.0      22.0               0.0           0.0   \n",
              "66310712                  5.0      13.0               0.0           0.0   \n",
              "68476807                  6.0      12.0               0.0           0.0   \n",
              "68426831                  3.0       5.0               0.0           0.0   \n",
              "\n",
              "          num_tl_90g_dpd_24m  num_tl_op_past_12m  pct_tl_nvr_dlq  \\\n",
              "id                                                                 \n",
              "68407277                 0.0                 3.0            76.9   \n",
              "68355089                 0.0                 2.0            97.4   \n",
              "66310712                 0.0                 1.0           100.0   \n",
              "68476807                 0.0                 4.0            96.6   \n",
              "68426831                 0.0                 0.0           100.0   \n",
              "\n",
              "          percent_bc_gt_75  pub_rec_bankruptcies  tax_liens  tot_hi_cred_lim  \\\n",
              "id                                                                             \n",
              "68407277               0.0                   0.0        0.0         178050.0   \n",
              "68355089               7.7                   0.0        0.0         314017.0   \n",
              "66310712               0.0                   0.0        0.0         381215.0   \n",
              "68476807              60.0                   0.0        0.0         439570.0   \n",
              "68426831             100.0                   0.0        0.0          16900.0   \n",
              "\n",
              "          total_bal_ex_mort  total_bc_limit  total_il_high_credit_limit  \\\n",
              "id                                                                        \n",
              "68407277             7746.0          2400.0                     13734.0   \n",
              "68355089            39475.0         79300.0                     24667.0   \n",
              "66310712            52226.0         62500.0                     18000.0   \n",
              "68476807            95768.0         20300.0                     88097.0   \n",
              "68426831            12798.0          9400.0                      4000.0   \n",
              "\n",
              "          default  index  x0_A  x0_B  x0_C  x0_D  x0_E  x0_F  x0_G  x1_ANY  \\\n",
              "id                                                                           \n",
              "68407277        0      0   0.0   0.0   1.0   0.0   0.0   0.0   0.0     0.0   \n",
              "68355089        0      1   0.0   0.0   1.0   0.0   0.0   0.0   0.0     0.0   \n",
              "66310712        0      2   0.0   0.0   1.0   0.0   0.0   0.0   0.0     0.0   \n",
              "68476807        0      3   0.0   0.0   0.0   0.0   0.0   1.0   0.0     0.0   \n",
              "68426831        0      4   0.0   0.0   1.0   0.0   0.0   0.0   0.0     0.0   \n",
              "\n",
              "          x1_MORTGAGE  x1_NONE  x1_OWN  x1_RENT  x2_Not Verified  \\\n",
              "id                                                                 \n",
              "68407277          1.0      0.0     0.0      0.0              1.0   \n",
              "68355089          1.0      0.0     0.0      0.0              1.0   \n",
              "66310712          1.0      0.0     0.0      0.0              0.0   \n",
              "68476807          1.0      0.0     0.0      0.0              0.0   \n",
              "68426831          0.0      0.0     0.0      1.0              0.0   \n",
              "\n",
              "          x2_Source Verified  x2_Verified  x3_ANY  x3_MORTGAGE  x3_NONE  \\\n",
              "id                                                                        \n",
              "68407277                 0.0          0.0     0.0          1.0      0.0   \n",
              "68355089                 0.0          0.0     0.0          1.0      0.0   \n",
              "66310712                 1.0          0.0     0.0          1.0      0.0   \n",
              "68476807                 1.0          0.0     0.0          1.0      0.0   \n",
              "68426831                 1.0          0.0     0.0          0.0      0.0   \n",
              "\n",
              "          x3_OWN  x3_RENT  x4_car  x4_credit_card  x4_debt_consolidation  \\\n",
              "id                                                                         \n",
              "68407277     0.0      0.0     0.0             0.0                    1.0   \n",
              "68355089     0.0      0.0     0.0             0.0                    0.0   \n",
              "66310712     0.0      0.0     0.0             0.0                    1.0   \n",
              "68476807     0.0      0.0     0.0             0.0                    0.0   \n",
              "68426831     0.0      1.0     0.0             0.0                    1.0   \n",
              "\n",
              "          x4_educational  x4_home_improvement  x4_house  x4_major_purchase  \\\n",
              "id                                                                           \n",
              "68407277             0.0                  0.0       0.0                0.0   \n",
              "68355089             0.0                  0.0       0.0                0.0   \n",
              "66310712             0.0                  0.0       0.0                0.0   \n",
              "68476807             0.0                  0.0       0.0                1.0   \n",
              "68426831             0.0                  0.0       0.0                0.0   \n",
              "\n",
              "          x4_medical  x4_moving  x4_other  x4_renewable_energy  \\\n",
              "id                                                               \n",
              "68407277         0.0        0.0       0.0                  0.0   \n",
              "68355089         0.0        0.0       0.0                  0.0   \n",
              "66310712         0.0        0.0       0.0                  0.0   \n",
              "68476807         0.0        0.0       0.0                  0.0   \n",
              "68426831         0.0        0.0       0.0                  0.0   \n",
              "\n",
              "          x4_small_business  x4_vacation  x4_wedding  \n",
              "id                                                    \n",
              "68407277                0.0          0.0         0.0  \n",
              "68355089                1.0          0.0         0.0  \n",
              "66310712                0.0          0.0         0.0  \n",
              "68476807                0.0          0.0         0.0  \n",
              "68426831                0.0          0.0         0.0  "
            ]
          },
          "metadata": {
            "tags": []
          },
          "execution_count": 3
        }
      ]
    },
    {
      "cell_type": "markdown",
      "metadata": {
        "id": "t64K_sLBkU6X",
        "colab_type": "text"
      },
      "source": [
        "Our dataset is heavily imbalanced."
      ]
    },
    {
      "cell_type": "code",
      "metadata": {
        "id": "VvKnSyOSkXvi",
        "colab_type": "code",
        "outputId": "fecb5d74-4b42-48f4-8c26-fcecd2454be9",
        "colab": {
          "base_uri": "https://localhost:8080/",
          "height": 69
        }
      },
      "source": [
        "df['default'].value_counts(normalize=True)"
      ],
      "execution_count": 0,
      "outputs": [
        {
          "output_type": "execute_result",
          "data": {
            "text/plain": [
              "0    0.857011\n",
              "1    0.142989\n",
              "Name: default, dtype: float64"
            ]
          },
          "metadata": {
            "tags": []
          },
          "execution_count": 29
        }
      ]
    },
    {
      "cell_type": "markdown",
      "metadata": {
        "id": "txAvTZdskmTN",
        "colab_type": "text"
      },
      "source": [
        "That being the case, I am going to experiment with both upsampling and downsampling and see which works best. I really hope it's downsampling for computation's sake. "
      ]
    },
    {
      "cell_type": "code",
      "metadata": {
        "id": "o5fTdFYO_pJk",
        "colab_type": "code",
        "colab": {}
      },
      "source": [
        "# X will be every column except our target feature.\n",
        "X = df.drop(columns=['default']) \n",
        "# y will be just the default column\n",
        "y = df.default \n",
        "# Using train test split for this initial go round, random_state will be 7 for everything for uniformity. \n",
        "X_train, X_test, y_train, y_test = train_test_split(X,y, test_size=.2, random_state=7) "
      ],
      "execution_count": 0,
      "outputs": []
    },
    {
      "cell_type": "code",
      "metadata": {
        "id": "YCvJwIVLhVSO",
        "colab_type": "code",
        "outputId": "5c2fc184-37a6-4794-c01b-3142ca19acde",
        "colab": {
          "base_uri": "https://localhost:8080/",
          "height": 124
        }
      },
      "source": [
        "# Upsample using SMOTE\n",
        "up = SMOTE(random_state=7, ratio = 1.0)\n",
        "X_train_up, y_train_up = up.fit_sample(X_train, y_train)\n",
        "\n",
        "# Downsample majority class\n",
        "X_train_dn, y_train_dn = resample(X_train[y_train == 0],\n",
        "                                y_train[y_train == 0],\n",
        "                                replace=True,\n",
        "                                n_samples=X_train[y_train == 1].shape[0],\n",
        "                                random_state=7)\n",
        "X_train_dn = np.concatenate((X_train[y_train == 1], X_train_dn))\n",
        "y_train_dn = np.concatenate((y_train[y_train == 1], y_train_dn))\n",
        "\n",
        "\n",
        "print(\"Original shape:\", X_train.shape, y_train.shape)\n",
        "print (\"Upsampled shape:\", X_train_up.shape, y_train_up.shape)\n",
        "print(\"Downsampled shape:\", X_train_dn.shape, y_train_dn.shape)"
      ],
      "execution_count": 6,
      "outputs": [
        {
          "output_type": "stream",
          "text": [
            "/usr/local/lib/python3.6/dist-packages/sklearn/utils/deprecation.py:87: FutureWarning: Function safe_indexing is deprecated; safe_indexing is deprecated in version 0.22 and will be removed in version 0.24.\n",
            "  warnings.warn(msg, category=FutureWarning)\n"
          ],
          "name": "stderr"
        },
        {
          "output_type": "stream",
          "text": [
            "Original shape: (986707, 98) (986707,)\n",
            "Upsampled shape: (1691122, 98) (1691122,)\n",
            "Downsampled shape: (282292, 98) (282292,)\n"
          ],
          "name": "stdout"
        }
      ]
    },
    {
      "cell_type": "code",
      "metadata": {
        "id": "gcNiNX_7i40B",
        "colab_type": "code",
        "outputId": "aed2dfb4-f4d6-44fa-dba0-771e2f143883",
        "colab": {
          "base_uri": "https://localhost:8080/",
          "height": 121
        }
      },
      "source": [
        "#We have to raise our max number of iterations in order for the model to run properly.\n",
        "lr = LogisticRegression(max_iter=200)\n",
        "\n",
        "#We will scale the data only for logistic regression.\n",
        "sc = StandardScaler()\n",
        "\n",
        "X_train_scl = sc.fit_transform(X_train)\n",
        "X_train_up_scl = sc.fit_transform(X_train_up)\n",
        "X_train_dn_scl = sc.fit_transform(X_train_dn)\n",
        " \n",
        "\n",
        "# Create the Original, Upsampled, and Downsampled training sets\n",
        "methods_data = {\"Original\": (X_train_scl, y_train),\n",
        "                \"Upsampled\": (X_train_up_scl, y_train_up),\n",
        "                \"Downsampled\": (X_train_dn_scl, y_train_dn)}\n",
        "\n",
        "# Loop through each type of training sets and apply 5-Fold CV using Logistic Regression\n",
        "for method in methods_data.keys():\n",
        "    lr_results = cross_val_score(LogisticRegression(max_iter=200), methods_data[method][0], methods_data[method][1], cv=5, scoring='f1')\n",
        "    print(f\"The best F1 Score for {method} data:\")\n",
        "    print (lr_results.mean())"
      ],
      "execution_count": 0,
      "outputs": [
        {
          "output_type": "stream",
          "text": [
            "The best F1 Score for Original data:\n",
            "0.7292446846621529\n",
            "The best F1 Score for Upsampled data:\n",
            "0.9205614688957491\n",
            "The best F1 Score for Downsampled data:\n",
            "0.906340658903072\n"
          ],
          "name": "stdout"
        }
      ]
    },
    {
      "cell_type": "markdown",
      "metadata": {
        "id": "x2ICrSreoZVY",
        "colab_type": "text"
      },
      "source": [
        "The winner is... upsampling. Boo. Let's see how how our model does with the test data. "
      ]
    },
    {
      "cell_type": "code",
      "metadata": {
        "id": "Vk07YBwybDcD",
        "colab_type": "code",
        "outputId": "d4172f34-45cd-475d-ae49-351dbd311566",
        "colab": {
          "base_uri": "https://localhost:8080/",
          "height": 243
        }
      },
      "source": [
        "lr = LogisticRegression(max_iter=200)\n",
        "lr.fit(X_train_up_scl, y_train_up)\n",
        "print (\"\\n\\n ---Logistic Regression Model---\")\n",
        "lr_roc_auc = roc_auc_score(y_test, lr.predict(X_test))\n",
        "print (\"Logistic Regression AUC = %2.2f\" % lr_roc_auc)\n",
        "print(classification_report(y_test, lr.predict(X_test)))\n"
      ],
      "execution_count": 0,
      "outputs": [
        {
          "output_type": "stream",
          "text": [
            "\n",
            "\n",
            " ---Logistic Regression Model---\n",
            "Logistic Regression AUC = 0.50\n",
            "              precision    recall  f1-score   support\n",
            "\n",
            "           0       0.86      1.00      0.92    211463\n",
            "           1       0.08      0.00      0.00     35214\n",
            "\n",
            "    accuracy                           0.86    246677\n",
            "   macro avg       0.47      0.50      0.46    246677\n",
            "weighted avg       0.75      0.86      0.79    246677\n",
            "\n"
          ],
          "name": "stdout"
        }
      ]
    },
    {
      "cell_type": "markdown",
      "metadata": {
        "id": "15bs-GBuoGEP",
        "colab_type": "text"
      },
      "source": [
        "This is a terrible model. Having this many features makes it difficult for a Logistic Regression to do well. Let's hope the other algorithms have a better time."
      ]
    },
    {
      "cell_type": "markdown",
      "metadata": {
        "id": "FsWV6zY9phUx",
        "colab_type": "text"
      },
      "source": [
        "# Random Forest "
      ]
    },
    {
      "cell_type": "markdown",
      "metadata": {
        "id": "TOxaiROCqYRj",
        "colab_type": "text"
      },
      "source": [
        "Random Forest should perform better. We will continue to use the upsampled data along with the regular data to see what performs better."
      ]
    },
    {
      "cell_type": "code",
      "metadata": {
        "id": "wWolkzh9p2ur",
        "colab_type": "code",
        "outputId": "b8b31d86-79c7-4295-a2ae-23f85016bfc1",
        "colab": {
          "base_uri": "https://localhost:8080/",
          "height": 52
        }
      },
      "source": [
        "#Upsampled Data\n",
        "rf = RandomForestClassifier(n_estimators=100)\n",
        "\n",
        "rf_results = cross_val_score(rf, X_train_up, y_train_up, cv=5, scoring='f1')\n",
        "\n",
        "print(f'The scores of our Random Forest cross validation were {rf_results}')\n",
        "print(f'The mean of our Random Forest cross validation is {rf_results.mean()}')"
      ],
      "execution_count": 0,
      "outputs": [
        {
          "output_type": "stream",
          "text": [
            "The scores of our Random Forest cross validation were [0.33025667 0.9721977  0.97205628 0.97190507 0.97228764]\n",
            "The mean of our Random Forest cross validation is 0.8437406739537089\n"
          ],
          "name": "stdout"
        }
      ]
    },
    {
      "cell_type": "code",
      "metadata": {
        "id": "952bEmvB-0-h",
        "colab_type": "code",
        "colab": {
          "base_uri": "https://localhost:8080/",
          "height": 52
        },
        "outputId": "b45750f6-2809-47df-c691-d747d05e82f8"
      },
      "source": [
        "#Regular Data\n",
        "rf = RandomForestClassifier(n_estimators=100)\n",
        "\n",
        "rf_results = cross_val_score(rf, X_train, y_train, cv=5, scoring='f1')\n",
        "\n",
        "print(f'The scores of our Random Forest cross validation were {rf_results}')\n",
        "print(f'The mean of our Random Forest cross validation is {rf_results.mean()}')"
      ],
      "execution_count": 12,
      "outputs": [
        {
          "output_type": "stream",
          "text": [
            "The scores of our Random Forest cross validation were [0.74128558 0.73748325 0.74104517 0.74312968 0.7398061 ]\n",
            "The mean of our Random Forest cross validation is 0.7405499565454228\n"
          ],
          "name": "stdout"
        }
      ]
    },
    {
      "cell_type": "markdown",
      "metadata": {
        "id": "r_XZLZOdRizu",
        "colab_type": "text"
      },
      "source": [
        "And now we will try out the testing data. Once again we will train with both upsampled and normal data. "
      ]
    },
    {
      "cell_type": "code",
      "metadata": {
        "id": "yOAPnIZL_2Gp",
        "colab_type": "code",
        "outputId": "5633bdf1-386a-4bd1-d306-057ae683c62b",
        "colab": {
          "base_uri": "https://localhost:8080/",
          "height": 243
        }
      },
      "source": [
        "#Upsampled\n",
        "rf = RandomForestClassifier(n_estimators=100)\n",
        "rf = rf.fit(X_train_up, y_train_up)\n",
        "\n",
        "print (\"\\n\\n ---Random Forest Model---\")\n",
        "rf_roc_auc = roc_auc_score(y_test, rf.predict(X_test))\n",
        "print (\"Random Forest AUC = %2.2f\" % rf_roc_auc)\n",
        "print(classification_report(y_test, rf.predict(X_test)))"
      ],
      "execution_count": 0,
      "outputs": [
        {
          "output_type": "stream",
          "text": [
            "\n",
            "\n",
            " ---Random Forest Model---\n",
            "Random Forest AUC = 0.86\n",
            "              precision    recall  f1-score   support\n",
            "\n",
            "           0       0.96      0.95      0.96    211463\n",
            "           1       0.72      0.77      0.75     35214\n",
            "\n",
            "    accuracy                           0.92    246677\n",
            "   macro avg       0.84      0.86      0.85    246677\n",
            "weighted avg       0.93      0.92      0.93    246677\n",
            "\n"
          ],
          "name": "stdout"
        }
      ]
    },
    {
      "cell_type": "code",
      "metadata": {
        "id": "1ay4V0HhMJlP",
        "colab_type": "code",
        "colab": {
          "base_uri": "https://localhost:8080/",
          "height": 243
        },
        "outputId": "f4938337-95dc-4590-d790-1ef9d066a16e"
      },
      "source": [
        "#Normal\n",
        "rf = RandomForestClassifier(n_estimators=100)\n",
        "rf = rf.fit(X_train, y_train)\n",
        "\n",
        "print (\"\\n\\n ---Random Forest Model---\")\n",
        "rf_roc_auc = roc_auc_score(y_test, rf.predict(X_test))\n",
        "print (\"Random Forest AUC = %2.2f\" % rf_roc_auc)\n",
        "print(classification_report(y_test, rf.predict(X_test)))"
      ],
      "execution_count": 13,
      "outputs": [
        {
          "output_type": "stream",
          "text": [
            "\n",
            "\n",
            " ---Random Forest Model---\n",
            "Random Forest AUC = 0.85\n",
            "              precision    recall  f1-score   support\n",
            "\n",
            "           0       0.96      0.96      0.96    211463\n",
            "           1       0.74      0.74      0.74     35214\n",
            "\n",
            "    accuracy                           0.93    246677\n",
            "   macro avg       0.85      0.85      0.85    246677\n",
            "weighted avg       0.93      0.93      0.93    246677\n",
            "\n"
          ],
          "name": "stdout"
        }
      ]
    },
    {
      "cell_type": "markdown",
      "metadata": {
        "id": "THl0XWHOLWt3",
        "colab_type": "text"
      },
      "source": [
        "# Gradient Boosting"
      ]
    },
    {
      "cell_type": "markdown",
      "metadata": {
        "id": "1tUd340rR7tN",
        "colab_type": "text"
      },
      "source": [
        "We will repeat the exact same steps with Gradient Boosting. "
      ]
    },
    {
      "cell_type": "code",
      "metadata": {
        "id": "2w31dQi3Lfib",
        "colab_type": "code",
        "outputId": "7a9fa656-17f8-4cc8-d19c-5e291d9a1c53",
        "colab": {
          "base_uri": "https://localhost:8080/",
          "height": 52
        }
      },
      "source": [
        "#Upsampled\n",
        "gb = lgb.LGBMClassifier()\n",
        "\n",
        "gb_results = cross_val_score(gb, X_train_up, y_train_up, cv=5, scoring='f1')\n",
        "\n",
        "print(f'The scores of our Gradient Boosting cross validation were {gb_results}')\n",
        "print(f'The mean of our Gradient Boosting cross validation is {gb_results.mean()}')"
      ],
      "execution_count": 0,
      "outputs": [
        {
          "output_type": "stream",
          "text": [
            "The scores of our Gradient Boosting cross validation were [0.28376287 0.97492557 0.97439638 0.97476398 0.97481668]\n",
            "The mean of our Gradient Boosting cross validation is 0.8365330968023384\n"
          ],
          "name": "stdout"
        }
      ]
    },
    {
      "cell_type": "code",
      "metadata": {
        "id": "VfPk6EAB8u6C",
        "colab_type": "code",
        "colab": {
          "base_uri": "https://localhost:8080/",
          "height": 52
        },
        "outputId": "4644a56f-730c-4b39-a407-416c92265943"
      },
      "source": [
        "#Normal\n",
        "gb = lgb.LGBMClassifier()\n",
        "\n",
        "gb_results = cross_val_score(gb, X_train, y_train, cv=5, scoring='f1')\n",
        "\n",
        "print(f'The scores of our Gradient Boosting cross validation were {gb_results}')\n",
        "print(f'The mean of our Gradient Boosting cross validation is {gb_results.mean()}')"
      ],
      "execution_count": 10,
      "outputs": [
        {
          "output_type": "stream",
          "text": [
            "The scores of our Gradient Boosting cross validation were [0.74892568 0.74809997 0.74877263 0.75173346 0.74817737]\n",
            "The mean of our Gradient Boosting cross validation is 0.7491418214630101\n"
          ],
          "name": "stdout"
        }
      ]
    },
    {
      "cell_type": "code",
      "metadata": {
        "id": "UXin517pNf-O",
        "colab_type": "code",
        "outputId": "69547fdd-007c-48c0-a6d0-5f8bc634b73c",
        "colab": {
          "base_uri": "https://localhost:8080/",
          "height": 243
        }
      },
      "source": [
        "#Upsampled\n",
        "gb = lgb.LGBMClassifier()\n",
        "gb = gb.fit(X_train_up, y_train_up)\n",
        "\n",
        "print (\"\\n\\n ---Gradient Boosting Model---\")\n",
        "gb_roc_auc = roc_auc_score(y_test, gb.predict(X_test))\n",
        "print (\"Gradient Boosting AUC = %2.2f\" % gb_roc_auc)\n",
        "print(classification_report(y_test, gb.predict(X_test)))\n"
      ],
      "execution_count": 0,
      "outputs": [
        {
          "output_type": "stream",
          "text": [
            "\n",
            "\n",
            " ---Gradient Boosting Model---\n",
            "Gradient Boosting AUC = 0.85\n",
            "              precision    recall  f1-score   support\n",
            "\n",
            "           0       0.96      0.96      0.96    211463\n",
            "           1       0.74      0.75      0.75     35214\n",
            "\n",
            "    accuracy                           0.93    246677\n",
            "   macro avg       0.85      0.85      0.85    246677\n",
            "weighted avg       0.93      0.93      0.93    246677\n",
            "\n"
          ],
          "name": "stdout"
        }
      ]
    },
    {
      "cell_type": "code",
      "metadata": {
        "id": "yXfCE1_59piv",
        "colab_type": "code",
        "colab": {
          "base_uri": "https://localhost:8080/",
          "height": 243
        },
        "outputId": "0d7d42ad-00e3-4d9f-8928-67c4d7f1df8e"
      },
      "source": [
        "#Normal\n",
        "gb = lgb.LGBMClassifier()\n",
        "gb = gb.fit(X_train, y_train)\n",
        "\n",
        "print (\"\\n\\n ---Gradient Boosting Model---\")\n",
        "gb_roc_auc = roc_auc_score(y_test, gb.predict(X_test))\n",
        "print (\"Gradient Boosting AUC = %2.2f\" % gb_roc_auc)\n",
        "print(classification_report(y_test, gb.predict(X_test)))"
      ],
      "execution_count": 11,
      "outputs": [
        {
          "output_type": "stream",
          "text": [
            "\n",
            "\n",
            " ---Gradient Boosting Model---\n",
            "Gradient Boosting AUC = 0.85\n",
            "              precision    recall  f1-score   support\n",
            "\n",
            "           0       0.96      0.96      0.96    211463\n",
            "           1       0.74      0.75      0.75     35214\n",
            "\n",
            "    accuracy                           0.93    246677\n",
            "   macro avg       0.85      0.85      0.85    246677\n",
            "weighted avg       0.93      0.93      0.93    246677\n",
            "\n"
          ],
          "name": "stdout"
        }
      ]
    },
    {
      "cell_type": "markdown",
      "metadata": {
        "id": "3yxn1lPey-oj",
        "colab_type": "text"
      },
      "source": [
        "# Comparing The Classifiers"
      ]
    },
    {
      "cell_type": "markdown",
      "metadata": {
        "id": "UsMOrI7STW8V",
        "colab_type": "text"
      },
      "source": [
        "It's fascinating that using upsampled data has a profound effect on cross-validation but does not do much to our f1 scores. I will stick with just our normal data as it is quicker than upsampling. \n",
        "\n",
        "Let's look at the ROC curves of our models. "
      ]
    },
    {
      "cell_type": "code",
      "metadata": {
        "id": "-LQW9SyTQGLs",
        "colab_type": "code",
        "outputId": "a9697271-5805-4418-d785-9e5578c8af3e",
        "colab": {
          "base_uri": "https://localhost:8080/",
          "height": 621
        }
      },
      "source": [
        "# Create ROC Graph\n",
        "plt.style.use('dark_background')\n",
        "from sklearn.metrics import roc_curve\n",
        "fpr, tpr, thresholds = roc_curve(y_test, lr.predict_proba(X_test)[:,1])\n",
        "rf_fpr, rf_tpr, rf_thresholds = roc_curve(y_test, rf.predict_proba(X_test)[:,1])\n",
        "gb_fpr, gb_tpr, gb_thresholds = roc_curve(y_test, gb.predict_proba(X_test)[:,1])\n",
        "\n",
        "\n",
        "plt.figure(figsize=(10,10))\n",
        "\n",
        "# Plot Logistic Regression ROC\n",
        "plt.plot(fpr, tpr, label='Logistic Regression (area = %0.2f)' % lr_roc_auc)\n",
        "\n",
        "# Plot Random Forest ROC\n",
        "plt.plot(rf_fpr, rf_tpr, label='Random Forest Classifier (area = %0.2f)' % rf_roc_auc)\n",
        "\n",
        "# Plot Gradient Boost ROC\n",
        "plt.plot(gb_fpr, gb_tpr, label='Gradient Boosting Classifier (area = %0.2f)' % gb_roc_auc)\n",
        "\n",
        "# Plot Base Rate ROC\n",
        "plt.plot([0,1], [0,1],label='Base Rate')\n",
        "\n",
        "\n",
        "plt.xlim([0.0, 1.0])\n",
        "plt.ylim([0.0, 1.05])\n",
        "plt.xlabel('False Positive Rate')\n",
        "plt.ylabel('True Positive Rate')\n",
        "plt.title('ROC Graph')\n",
        "plt.legend(loc=\"lower right\")\n",
        "plt.show()"
      ],
      "execution_count": 0,
      "outputs": [
        {
          "output_type": "display_data",
          "data": {
            "image/png": "[encoded data removed]",
            "text/plain": [
              "<Figure size 720x720 with 1 Axes>"
            ]
          },
          "metadata": {
            "tags": []
          }
        }
      ]
    },
    {
      "cell_type": "markdown",
      "metadata": {
        "id": "RNk2FcxFT2-a",
        "colab_type": "text"
      },
      "source": [
        "Random Forest is ever so slightly better than Gradient Boosting. Logistic Regression is literally the same as flipping the coin. How do Gradient Boosting and Random Forest rate their features?"
      ]
    },
    {
      "cell_type": "markdown",
      "metadata": {
        "id": "gWmEtdsXUH2u",
        "colab_type": "text"
      },
      "source": [
        "# Random Forest Feature Importances"
      ]
    },
    {
      "cell_type": "code",
      "metadata": {
        "id": "_Iwni3Srqg1Q",
        "colab_type": "code",
        "colab": {
          "base_uri": "https://localhost:8080/",
          "height": 662
        },
        "outputId": "d622a695-35fa-4ada-bbab-f4ded19fc493"
      },
      "source": [
        "feature_importances1 = pd.DataFrame(rf.feature_importances_,\n",
        "                                   index = X_train.columns,\n",
        "                                    columns=['importance']).sort_values('importance', ascending=False)\n",
        "feature_importances1 = feature_importances1.reset_index()\n",
        "feature_importances1.head(20)"
      ],
      "execution_count": 27,
      "outputs": [
        {
          "output_type": "execute_result",
          "data": {
            "text/html": [
              "<div>\n",
              "<style scoped>\n",
              "    .dataframe tbody tr th:only-of-type {\n",
              "        vertical-align: middle;\n",
              "    }\n",
              "\n",
              "    .dataframe tbody tr th {\n",
              "        vertical-align: top;\n",
              "    }\n",
              "\n",
              "    .dataframe thead th {\n",
              "        text-align: right;\n",
              "    }\n",
              "</style>\n",
              "<table border=\"1\" class=\"dataframe\">\n",
              "  <thead>\n",
              "    <tr style=\"text-align: right;\">\n",
              "      <th></th>\n",
              "      <th>index</th>\n",
              "      <th>importance</th>\n",
              "    </tr>\n",
              "  </thead>\n",
              "  <tbody>\n",
              "    <tr>\n",
              "      <th>0</th>\n",
              "      <td>last_fico_range_high</td>\n",
              "      <td>0.280181</td>\n",
              "    </tr>\n",
              "    <tr>\n",
              "      <th>1</th>\n",
              "      <td>last_fico_range_low</td>\n",
              "      <td>0.233651</td>\n",
              "    </tr>\n",
              "    <tr>\n",
              "      <th>2</th>\n",
              "      <td>int_rate</td>\n",
              "      <td>0.018642</td>\n",
              "    </tr>\n",
              "    <tr>\n",
              "      <th>3</th>\n",
              "      <td>installment</td>\n",
              "      <td>0.014920</td>\n",
              "    </tr>\n",
              "    <tr>\n",
              "      <th>4</th>\n",
              "      <td>dti</td>\n",
              "      <td>0.013809</td>\n",
              "    </tr>\n",
              "    <tr>\n",
              "      <th>5</th>\n",
              "      <td>index</td>\n",
              "      <td>0.013797</td>\n",
              "    </tr>\n",
              "    <tr>\n",
              "      <th>6</th>\n",
              "      <td>loan_amnt</td>\n",
              "      <td>0.013132</td>\n",
              "    </tr>\n",
              "    <tr>\n",
              "      <th>7</th>\n",
              "      <td>mo_sin_old_rev_tl_op</td>\n",
              "      <td>0.012640</td>\n",
              "    </tr>\n",
              "    <tr>\n",
              "      <th>8</th>\n",
              "      <td>bc_open_to_buy</td>\n",
              "      <td>0.011691</td>\n",
              "    </tr>\n",
              "    <tr>\n",
              "      <th>9</th>\n",
              "      <td>total_rev_hi_lim</td>\n",
              "      <td>0.011630</td>\n",
              "    </tr>\n",
              "    <tr>\n",
              "      <th>10</th>\n",
              "      <td>total_bc_limit</td>\n",
              "      <td>0.011511</td>\n",
              "    </tr>\n",
              "    <tr>\n",
              "      <th>11</th>\n",
              "      <td>mo_sin_old_il_acct</td>\n",
              "      <td>0.011394</td>\n",
              "    </tr>\n",
              "    <tr>\n",
              "      <th>12</th>\n",
              "      <td>revol_bal</td>\n",
              "      <td>0.011380</td>\n",
              "    </tr>\n",
              "    <tr>\n",
              "      <th>13</th>\n",
              "      <td>annual_inc</td>\n",
              "      <td>0.011366</td>\n",
              "    </tr>\n",
              "    <tr>\n",
              "      <th>14</th>\n",
              "      <td>tot_hi_cred_lim</td>\n",
              "      <td>0.011311</td>\n",
              "    </tr>\n",
              "    <tr>\n",
              "      <th>15</th>\n",
              "      <td>revol_util</td>\n",
              "      <td>0.011263</td>\n",
              "    </tr>\n",
              "    <tr>\n",
              "      <th>16</th>\n",
              "      <td>avg_cur_bal</td>\n",
              "      <td>0.011128</td>\n",
              "    </tr>\n",
              "    <tr>\n",
              "      <th>17</th>\n",
              "      <td>bc_util</td>\n",
              "      <td>0.011026</td>\n",
              "    </tr>\n",
              "    <tr>\n",
              "      <th>18</th>\n",
              "      <td>tot_cur_bal</td>\n",
              "      <td>0.010928</td>\n",
              "    </tr>\n",
              "    <tr>\n",
              "      <th>19</th>\n",
              "      <td>total_bal_ex_mort</td>\n",
              "      <td>0.010921</td>\n",
              "    </tr>\n",
              "  </tbody>\n",
              "</table>\n",
              "</div>"
            ],
            "text/plain": [
              "                   index  importance\n",
              "0   last_fico_range_high    0.280181\n",
              "1    last_fico_range_low    0.233651\n",
              "2               int_rate    0.018642\n",
              "3            installment    0.014920\n",
              "4                    dti    0.013809\n",
              "5                  index    0.013797\n",
              "6              loan_amnt    0.013132\n",
              "7   mo_sin_old_rev_tl_op    0.012640\n",
              "8         bc_open_to_buy    0.011691\n",
              "9       total_rev_hi_lim    0.011630\n",
              "10        total_bc_limit    0.011511\n",
              "11    mo_sin_old_il_acct    0.011394\n",
              "12             revol_bal    0.011380\n",
              "13            annual_inc    0.011366\n",
              "14       tot_hi_cred_lim    0.011311\n",
              "15            revol_util    0.011263\n",
              "16           avg_cur_bal    0.011128\n",
              "17               bc_util    0.011026\n",
              "18           tot_cur_bal    0.010928\n",
              "19     total_bal_ex_mort    0.010921"
            ]
          },
          "metadata": {
            "tags": []
          },
          "execution_count": 27
        }
      ]
    },
    {
      "cell_type": "code",
      "metadata": {
        "id": "jc9Fl7cOUtZH",
        "colab_type": "code",
        "colab": {
          "base_uri": "https://localhost:8080/",
          "height": 448
        },
        "outputId": "27f74160-ccba-495e-b788-cd1e97f16151"
      },
      "source": [
        "sns.set(style=\"whitegrid\")\n",
        "\n",
        "# Initialize the matplotlib figure\n",
        "f, ax = plt.subplots(figsize=(13, 7))\n",
        "\n",
        "# Plot the Feature Importance\n",
        "sns.set_color_codes(\"pastel\")\n",
        "sns.barplot(x=\"importance\", y='index', data=feature_importances1.head(15),\n",
        "            label=\"Total\", color=\"b\")\n",
        "plt.show()"
      ],
      "execution_count": 28,
      "outputs": [
        {
          "output_type": "display_data",
          "data": {
            "image/png": "[encoded data removed]",
            "text/plain": [
              "<Figure size 936x504 with 1 Axes>"
            ]
          },
          "metadata": {
            "tags": []
          }
        }
      ]
    },
    {
      "cell_type": "markdown",
      "metadata": {
        "id": "hubuS_D7UX18",
        "colab_type": "text"
      },
      "source": [
        "# Gradient Boosting Feature Importances"
      ]
    },
    {
      "cell_type": "code",
      "metadata": {
        "id": "_UyN9mlHQXsY",
        "colab_type": "code",
        "colab": {
          "base_uri": "https://localhost:8080/",
          "height": 662
        },
        "outputId": "bc4602ae-a053-4ff6-fa93-0b2f8216d836"
      },
      "source": [
        "feature_importances2 = pd.DataFrame(gb.feature_importances_,\n",
        "                                   index = X_train.columns,\n",
        "                                    columns=['importance']).sort_values('importance', ascending=False)\n",
        "feature_importances2 = feature_importances2.reset_index()\n",
        "feature_importances2.head(20)"
      ],
      "execution_count": 33,
      "outputs": [
        {
          "output_type": "execute_result",
          "data": {
            "text/html": [
              "<div>\n",
              "<style scoped>\n",
              "    .dataframe tbody tr th:only-of-type {\n",
              "        vertical-align: middle;\n",
              "    }\n",
              "\n",
              "    .dataframe tbody tr th {\n",
              "        vertical-align: top;\n",
              "    }\n",
              "\n",
              "    .dataframe thead th {\n",
              "        text-align: right;\n",
              "    }\n",
              "</style>\n",
              "<table border=\"1\" class=\"dataframe\">\n",
              "  <thead>\n",
              "    <tr style=\"text-align: right;\">\n",
              "      <th></th>\n",
              "      <th>index</th>\n",
              "      <th>importance</th>\n",
              "    </tr>\n",
              "  </thead>\n",
              "  <tbody>\n",
              "    <tr>\n",
              "      <th>0</th>\n",
              "      <td>last_fico_range_high</td>\n",
              "      <td>494</td>\n",
              "    </tr>\n",
              "    <tr>\n",
              "      <th>1</th>\n",
              "      <td>index</td>\n",
              "      <td>247</td>\n",
              "    </tr>\n",
              "    <tr>\n",
              "      <th>2</th>\n",
              "      <td>loan_amnt</td>\n",
              "      <td>158</td>\n",
              "    </tr>\n",
              "    <tr>\n",
              "      <th>3</th>\n",
              "      <td>mo_sin_old_rev_tl_op</td>\n",
              "      <td>148</td>\n",
              "    </tr>\n",
              "    <tr>\n",
              "      <th>4</th>\n",
              "      <td>total_acc</td>\n",
              "      <td>123</td>\n",
              "    </tr>\n",
              "    <tr>\n",
              "      <th>5</th>\n",
              "      <td>annual_inc</td>\n",
              "      <td>118</td>\n",
              "    </tr>\n",
              "    <tr>\n",
              "      <th>6</th>\n",
              "      <td>int_rate</td>\n",
              "      <td>112</td>\n",
              "    </tr>\n",
              "    <tr>\n",
              "      <th>7</th>\n",
              "      <td>dti</td>\n",
              "      <td>107</td>\n",
              "    </tr>\n",
              "    <tr>\n",
              "      <th>8</th>\n",
              "      <td>installment</td>\n",
              "      <td>104</td>\n",
              "    </tr>\n",
              "    <tr>\n",
              "      <th>9</th>\n",
              "      <td>num_rev_tl_bal_gt_0</td>\n",
              "      <td>89</td>\n",
              "    </tr>\n",
              "    <tr>\n",
              "      <th>10</th>\n",
              "      <td>emp_length</td>\n",
              "      <td>85</td>\n",
              "    </tr>\n",
              "    <tr>\n",
              "      <th>11</th>\n",
              "      <td>mths_since_rcnt_il</td>\n",
              "      <td>84</td>\n",
              "    </tr>\n",
              "    <tr>\n",
              "      <th>12</th>\n",
              "      <td>fico_range_low</td>\n",
              "      <td>76</td>\n",
              "    </tr>\n",
              "    <tr>\n",
              "      <th>13</th>\n",
              "      <td>num_rev_accts</td>\n",
              "      <td>73</td>\n",
              "    </tr>\n",
              "    <tr>\n",
              "      <th>14</th>\n",
              "      <td>pct_tl_nvr_dlq</td>\n",
              "      <td>72</td>\n",
              "    </tr>\n",
              "    <tr>\n",
              "      <th>15</th>\n",
              "      <td>revol_util</td>\n",
              "      <td>60</td>\n",
              "    </tr>\n",
              "    <tr>\n",
              "      <th>16</th>\n",
              "      <td>total_rev_hi_lim</td>\n",
              "      <td>52</td>\n",
              "    </tr>\n",
              "    <tr>\n",
              "      <th>17</th>\n",
              "      <td>tot_cur_bal</td>\n",
              "      <td>41</td>\n",
              "    </tr>\n",
              "    <tr>\n",
              "      <th>18</th>\n",
              "      <td>term</td>\n",
              "      <td>39</td>\n",
              "    </tr>\n",
              "    <tr>\n",
              "      <th>19</th>\n",
              "      <td>pub_rec_bankruptcies</td>\n",
              "      <td>38</td>\n",
              "    </tr>\n",
              "  </tbody>\n",
              "</table>\n",
              "</div>"
            ],
            "text/plain": [
              "                   index  importance\n",
              "0   last_fico_range_high         494\n",
              "1                  index         247\n",
              "2              loan_amnt         158\n",
              "3   mo_sin_old_rev_tl_op         148\n",
              "4              total_acc         123\n",
              "5             annual_inc         118\n",
              "6               int_rate         112\n",
              "7                    dti         107\n",
              "8            installment         104\n",
              "9    num_rev_tl_bal_gt_0          89\n",
              "10            emp_length          85\n",
              "11    mths_since_rcnt_il          84\n",
              "12        fico_range_low          76\n",
              "13         num_rev_accts          73\n",
              "14        pct_tl_nvr_dlq          72\n",
              "15            revol_util          60\n",
              "16      total_rev_hi_lim          52\n",
              "17           tot_cur_bal          41\n",
              "18                  term          39\n",
              "19  pub_rec_bankruptcies          38"
            ]
          },
          "metadata": {
            "tags": []
          },
          "execution_count": 33
        }
      ]
    },
    {
      "cell_type": "code",
      "metadata": {
        "id": "QJMy9XK9rWbk",
        "colab_type": "code",
        "colab": {
          "base_uri": "https://localhost:8080/",
          "height": 448
        },
        "outputId": "1554c1b5-8f0f-4b1b-e2af-64ccec39c7ff"
      },
      "source": [
        "sns.set(style=\"whitegrid\")\n",
        "\n",
        "# Initialize the matplotlib figure\n",
        "f, ax = plt.subplots(figsize=(13, 7))\n",
        "\n",
        "# Plot the Feature Importance\n",
        "sns.set_color_codes(\"pastel\")\n",
        "sns.barplot(x=\"importance\", y='index', data=feature_importances2.head(15),\n",
        "            label=\"Total\", color=\"b\")\n",
        "plt.show()"
      ],
      "execution_count": 30,
      "outputs": [
        {
          "output_type": "display_data",
          "data": {
            "image/png": "[encoded data removed]",
            "text/plain": [
              "<Figure size 936x504 with 1 Axes>"
            ]
          },
          "metadata": {
            "tags": []
          }
        }
      ]
    },
    {
      "cell_type": "markdown",
      "metadata": {
        "id": "dtd4-htDV2G3",
        "colab_type": "text"
      },
      "source": [
        "# Comparing Feature Importances"
      ]
    },
    {
      "cell_type": "markdown",
      "metadata": {
        "id": "p5_Q9yaaWAUb",
        "colab_type": "text"
      },
      "source": [
        "Random Forest puts a ton of weight on the most recent FICO scores. Gradient boosting still sees them as important but gives a lot more weight to other features as well. In spite of this, their results are very close to one another. "
      ]
    },
    {
      "cell_type": "code",
      "metadata": {
        "id": "JPyOBq-VRAV7",
        "colab_type": "code",
        "colab": {}
      },
      "source": [
        ""
      ],
      "execution_count": 0,
      "outputs": []
    }
  ]
}
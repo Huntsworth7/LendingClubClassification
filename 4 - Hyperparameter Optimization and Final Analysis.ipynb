{
 "cells": [
  {
   "cell_type": "markdown",
   "metadata": {
    "colab_type": "text",
    "id": "mrYZ8nWEYBAr"
   },
   "source": [
    "# Optimizing Our Hyperparameters"
   ]
  },
  {
   "cell_type": "markdown",
   "metadata": {
    "colab_type": "text",
    "id": "4-7xHF63YGKm"
   },
   "source": [
    "Since the Random Forest and Gradient Boosting performed nearly the same, we are going to try to optimize Gradient Boosting as it is much faster than Random Forest. \n",
    "\n",
    "We will attempt to optimize for both ROC AUC and F1 scoring and see which one improves our model the best. "
   ]
  },
  {
   "cell_type": "code",
   "execution_count": 21,
   "metadata": {
    "colab": {},
    "colab_type": "code",
    "id": "Ep_eiwkoI8kj"
   },
   "outputs": [],
   "source": [
    "import pandas as pd \n",
    "pd.set_option('display.max_columns', None)\n",
    "pd.set_option('display.max_rows', None)\n",
    "import lightgbm as lgb\n",
    "from sklearn.model_selection import train_test_split, cross_val_score\n",
    "from sklearn.metrics import accuracy_score, roc_auc_score, classification_report\n",
    "import matplotlib.pyplot as plt\n",
    "from skopt.space import Real, Integer\n",
    "from skopt.utils import use_named_args\n",
    "from skopt import gp_minimize\n",
    "import numpy as np\n",
    "import seaborn as sns"
   ]
  },
  {
   "cell_type": "code",
   "execution_count": 2,
   "metadata": {
    "colab": {
     "base_uri": "https://localhost:8080/",
     "height": 305
    },
    "colab_type": "code",
    "id": "GLQxmWQyJfHp",
    "outputId": "fe4da819-e8d2-488d-9d2f-dcb84a175bd1"
   },
   "outputs": [
    {
     "name": "stderr",
     "output_type": "stream",
     "text": [
      "C:\\Users\\hunte\\Anaconda3\\lib\\site-packages\\numpy\\lib\\arraysetops.py:569: FutureWarning: elementwise comparison failed; returning scalar instead, but in the future will perform elementwise comparison\n",
      "  mask |= (ar1 == a)\n"
     ]
    },
    {
     "data": {
      "text/html": [
       "<div>\n",
       "<style scoped>\n",
       "    .dataframe tbody tr th:only-of-type {\n",
       "        vertical-align: middle;\n",
       "    }\n",
       "\n",
       "    .dataframe tbody tr th {\n",
       "        vertical-align: top;\n",
       "    }\n",
       "\n",
       "    .dataframe thead th {\n",
       "        text-align: right;\n",
       "    }\n",
       "</style>\n",
       "<table border=\"1\" class=\"dataframe\">\n",
       "  <thead>\n",
       "    <tr style=\"text-align: right;\">\n",
       "      <th></th>\n",
       "      <th>loan_amnt</th>\n",
       "      <th>term</th>\n",
       "      <th>int_rate</th>\n",
       "      <th>installment</th>\n",
       "      <th>emp_length</th>\n",
       "      <th>annual_inc</th>\n",
       "      <th>dti</th>\n",
       "      <th>delinq_2yrs</th>\n",
       "      <th>fico_range_low</th>\n",
       "      <th>fico_range_high</th>\n",
       "      <th>inq_last_6mths</th>\n",
       "      <th>mths_since_last_delinq</th>\n",
       "      <th>mths_since_last_record</th>\n",
       "      <th>open_acc</th>\n",
       "      <th>pub_rec</th>\n",
       "      <th>revol_bal</th>\n",
       "      <th>revol_util</th>\n",
       "      <th>total_acc</th>\n",
       "      <th>last_fico_range_high</th>\n",
       "      <th>last_fico_range_low</th>\n",
       "      <th>collections_12_mths_ex_med</th>\n",
       "      <th>mths_since_last_major_derog</th>\n",
       "      <th>acc_now_delinq</th>\n",
       "      <th>tot_coll_amt</th>\n",
       "      <th>tot_cur_bal</th>\n",
       "      <th>mths_since_rcnt_il</th>\n",
       "      <th>total_rev_hi_lim</th>\n",
       "      <th>acc_open_past_24mths</th>\n",
       "      <th>avg_cur_bal</th>\n",
       "      <th>bc_open_to_buy</th>\n",
       "      <th>bc_util</th>\n",
       "      <th>chargeoff_within_12_mths</th>\n",
       "      <th>mo_sin_old_il_acct</th>\n",
       "      <th>mo_sin_old_rev_tl_op</th>\n",
       "      <th>mo_sin_rcnt_rev_tl_op</th>\n",
       "      <th>mo_sin_rcnt_tl</th>\n",
       "      <th>mort_acc</th>\n",
       "      <th>mths_since_recent_bc</th>\n",
       "      <th>mths_since_recent_bc_dlq</th>\n",
       "      <th>mths_since_recent_inq</th>\n",
       "      <th>mths_since_recent_revol_delinq</th>\n",
       "      <th>num_accts_ever_120_pd</th>\n",
       "      <th>num_actv_bc_tl</th>\n",
       "      <th>num_actv_rev_tl</th>\n",
       "      <th>num_bc_sats</th>\n",
       "      <th>num_bc_tl</th>\n",
       "      <th>num_il_tl</th>\n",
       "      <th>num_op_rev_tl</th>\n",
       "      <th>num_rev_accts</th>\n",
       "      <th>num_rev_tl_bal_gt_0</th>\n",
       "      <th>num_sats</th>\n",
       "      <th>num_tl_120dpd_2m</th>\n",
       "      <th>num_tl_30dpd</th>\n",
       "      <th>num_tl_90g_dpd_24m</th>\n",
       "      <th>num_tl_op_past_12m</th>\n",
       "      <th>pct_tl_nvr_dlq</th>\n",
       "      <th>percent_bc_gt_75</th>\n",
       "      <th>pub_rec_bankruptcies</th>\n",
       "      <th>tax_liens</th>\n",
       "      <th>tot_hi_cred_lim</th>\n",
       "      <th>total_bal_ex_mort</th>\n",
       "      <th>total_bc_limit</th>\n",
       "      <th>total_il_high_credit_limit</th>\n",
       "      <th>default</th>\n",
       "      <th>x0_B</th>\n",
       "      <th>x0_C</th>\n",
       "      <th>x0_D</th>\n",
       "      <th>x0_E</th>\n",
       "      <th>x0_F</th>\n",
       "      <th>x0_G</th>\n",
       "      <th>x1_MORTGAGE</th>\n",
       "      <th>x1_NONE</th>\n",
       "      <th>x1_OWN</th>\n",
       "      <th>x1_RENT</th>\n",
       "      <th>x2_Source Verified</th>\n",
       "      <th>x2_Verified</th>\n",
       "      <th>x3_MORTGAGE</th>\n",
       "      <th>x3_NONE</th>\n",
       "      <th>x3_OWN</th>\n",
       "      <th>x3_RENT</th>\n",
       "      <th>x4_credit_card</th>\n",
       "      <th>x4_debt_consolidation</th>\n",
       "      <th>x4_educational</th>\n",
       "      <th>x4_home_improvement</th>\n",
       "      <th>x4_house</th>\n",
       "      <th>x4_major_purchase</th>\n",
       "      <th>x4_medical</th>\n",
       "      <th>x4_moving</th>\n",
       "      <th>x4_other</th>\n",
       "      <th>x4_renewable_energy</th>\n",
       "      <th>x4_small_business</th>\n",
       "      <th>x4_vacation</th>\n",
       "      <th>x4_wedding</th>\n",
       "    </tr>\n",
       "    <tr>\n",
       "      <th>id</th>\n",
       "      <th></th>\n",
       "      <th></th>\n",
       "      <th></th>\n",
       "      <th></th>\n",
       "      <th></th>\n",
       "      <th></th>\n",
       "      <th></th>\n",
       "      <th></th>\n",
       "      <th></th>\n",
       "      <th></th>\n",
       "      <th></th>\n",
       "      <th></th>\n",
       "      <th></th>\n",
       "      <th></th>\n",
       "      <th></th>\n",
       "      <th></th>\n",
       "      <th></th>\n",
       "      <th></th>\n",
       "      <th></th>\n",
       "      <th></th>\n",
       "      <th></th>\n",
       "      <th></th>\n",
       "      <th></th>\n",
       "      <th></th>\n",
       "      <th></th>\n",
       "      <th></th>\n",
       "      <th></th>\n",
       "      <th></th>\n",
       "      <th></th>\n",
       "      <th></th>\n",
       "      <th></th>\n",
       "      <th></th>\n",
       "      <th></th>\n",
       "      <th></th>\n",
       "      <th></th>\n",
       "      <th></th>\n",
       "      <th></th>\n",
       "      <th></th>\n",
       "      <th></th>\n",
       "      <th></th>\n",
       "      <th></th>\n",
       "      <th></th>\n",
       "      <th></th>\n",
       "      <th></th>\n",
       "      <th></th>\n",
       "      <th></th>\n",
       "      <th></th>\n",
       "      <th></th>\n",
       "      <th></th>\n",
       "      <th></th>\n",
       "      <th></th>\n",
       "      <th></th>\n",
       "      <th></th>\n",
       "      <th></th>\n",
       "      <th></th>\n",
       "      <th></th>\n",
       "      <th></th>\n",
       "      <th></th>\n",
       "      <th></th>\n",
       "      <th></th>\n",
       "      <th></th>\n",
       "      <th></th>\n",
       "      <th></th>\n",
       "      <th></th>\n",
       "      <th></th>\n",
       "      <th></th>\n",
       "      <th></th>\n",
       "      <th></th>\n",
       "      <th></th>\n",
       "      <th></th>\n",
       "      <th></th>\n",
       "      <th></th>\n",
       "      <th></th>\n",
       "      <th></th>\n",
       "      <th></th>\n",
       "      <th></th>\n",
       "      <th></th>\n",
       "      <th></th>\n",
       "      <th></th>\n",
       "      <th></th>\n",
       "      <th></th>\n",
       "      <th></th>\n",
       "      <th></th>\n",
       "      <th></th>\n",
       "      <th></th>\n",
       "      <th></th>\n",
       "      <th></th>\n",
       "      <th></th>\n",
       "      <th></th>\n",
       "      <th></th>\n",
       "      <th></th>\n",
       "      <th></th>\n",
       "      <th></th>\n",
       "    </tr>\n",
       "  </thead>\n",
       "  <tbody>\n",
       "    <tr>\n",
       "      <th>68407277</th>\n",
       "      <td>3600.0</td>\n",
       "      <td>36</td>\n",
       "      <td>13.99</td>\n",
       "      <td>123.03</td>\n",
       "      <td>10</td>\n",
       "      <td>55000.0</td>\n",
       "      <td>5.91</td>\n",
       "      <td>0.0</td>\n",
       "      <td>675.0</td>\n",
       "      <td>679.0</td>\n",
       "      <td>1.0</td>\n",
       "      <td>30.0</td>\n",
       "      <td>-999.0</td>\n",
       "      <td>7.0</td>\n",
       "      <td>0.0</td>\n",
       "      <td>2765.0</td>\n",
       "      <td>29.7</td>\n",
       "      <td>13.0</td>\n",
       "      <td>564.0</td>\n",
       "      <td>560.0</td>\n",
       "      <td>0.0</td>\n",
       "      <td>30.0</td>\n",
       "      <td>0.0</td>\n",
       "      <td>722.0</td>\n",
       "      <td>144904.0</td>\n",
       "      <td>21.0</td>\n",
       "      <td>9300.0</td>\n",
       "      <td>4.0</td>\n",
       "      <td>20701.0</td>\n",
       "      <td>1506.0</td>\n",
       "      <td>37.2</td>\n",
       "      <td>0.0</td>\n",
       "      <td>148.0</td>\n",
       "      <td>128.0</td>\n",
       "      <td>3.0</td>\n",
       "      <td>3.0</td>\n",
       "      <td>1.0</td>\n",
       "      <td>4.0</td>\n",
       "      <td>69.0</td>\n",
       "      <td>4.0</td>\n",
       "      <td>69.0</td>\n",
       "      <td>2.0</td>\n",
       "      <td>2.0</td>\n",
       "      <td>4.0</td>\n",
       "      <td>2.0</td>\n",
       "      <td>5.0</td>\n",
       "      <td>3.0</td>\n",
       "      <td>4.0</td>\n",
       "      <td>9.0</td>\n",
       "      <td>4.0</td>\n",
       "      <td>7.0</td>\n",
       "      <td>0.0</td>\n",
       "      <td>0.0</td>\n",
       "      <td>0.0</td>\n",
       "      <td>3.0</td>\n",
       "      <td>76.9</td>\n",
       "      <td>0.0</td>\n",
       "      <td>0.0</td>\n",
       "      <td>0.0</td>\n",
       "      <td>178050.0</td>\n",
       "      <td>7746.0</td>\n",
       "      <td>2400.0</td>\n",
       "      <td>13734.0</td>\n",
       "      <td>0</td>\n",
       "      <td>0.0</td>\n",
       "      <td>1.0</td>\n",
       "      <td>0.0</td>\n",
       "      <td>0.0</td>\n",
       "      <td>0.0</td>\n",
       "      <td>0.0</td>\n",
       "      <td>1.0</td>\n",
       "      <td>0.0</td>\n",
       "      <td>0.0</td>\n",
       "      <td>0.0</td>\n",
       "      <td>0.0</td>\n",
       "      <td>0.0</td>\n",
       "      <td>1.0</td>\n",
       "      <td>0.0</td>\n",
       "      <td>0.0</td>\n",
       "      <td>0.0</td>\n",
       "      <td>0.0</td>\n",
       "      <td>1.0</td>\n",
       "      <td>0.0</td>\n",
       "      <td>0.0</td>\n",
       "      <td>0.0</td>\n",
       "      <td>0.0</td>\n",
       "      <td>0.0</td>\n",
       "      <td>0.0</td>\n",
       "      <td>0.0</td>\n",
       "      <td>0.0</td>\n",
       "      <td>0.0</td>\n",
       "      <td>0.0</td>\n",
       "      <td>0.0</td>\n",
       "    </tr>\n",
       "    <tr>\n",
       "      <th>68355089</th>\n",
       "      <td>24700.0</td>\n",
       "      <td>36</td>\n",
       "      <td>11.99</td>\n",
       "      <td>820.28</td>\n",
       "      <td>10</td>\n",
       "      <td>65000.0</td>\n",
       "      <td>16.06</td>\n",
       "      <td>1.0</td>\n",
       "      <td>715.0</td>\n",
       "      <td>719.0</td>\n",
       "      <td>4.0</td>\n",
       "      <td>6.0</td>\n",
       "      <td>-999.0</td>\n",
       "      <td>22.0</td>\n",
       "      <td>0.0</td>\n",
       "      <td>21470.0</td>\n",
       "      <td>19.2</td>\n",
       "      <td>38.0</td>\n",
       "      <td>699.0</td>\n",
       "      <td>695.0</td>\n",
       "      <td>0.0</td>\n",
       "      <td>-999.0</td>\n",
       "      <td>0.0</td>\n",
       "      <td>0.0</td>\n",
       "      <td>204396.0</td>\n",
       "      <td>19.0</td>\n",
       "      <td>111800.0</td>\n",
       "      <td>4.0</td>\n",
       "      <td>9733.0</td>\n",
       "      <td>57830.0</td>\n",
       "      <td>27.1</td>\n",
       "      <td>0.0</td>\n",
       "      <td>113.0</td>\n",
       "      <td>192.0</td>\n",
       "      <td>2.0</td>\n",
       "      <td>2.0</td>\n",
       "      <td>4.0</td>\n",
       "      <td>2.0</td>\n",
       "      <td>-999.0</td>\n",
       "      <td>0.0</td>\n",
       "      <td>6.0</td>\n",
       "      <td>0.0</td>\n",
       "      <td>5.0</td>\n",
       "      <td>5.0</td>\n",
       "      <td>13.0</td>\n",
       "      <td>17.0</td>\n",
       "      <td>6.0</td>\n",
       "      <td>20.0</td>\n",
       "      <td>27.0</td>\n",
       "      <td>5.0</td>\n",
       "      <td>22.0</td>\n",
       "      <td>0.0</td>\n",
       "      <td>0.0</td>\n",
       "      <td>0.0</td>\n",
       "      <td>2.0</td>\n",
       "      <td>97.4</td>\n",
       "      <td>7.7</td>\n",
       "      <td>0.0</td>\n",
       "      <td>0.0</td>\n",
       "      <td>314017.0</td>\n",
       "      <td>39475.0</td>\n",
       "      <td>79300.0</td>\n",
       "      <td>24667.0</td>\n",
       "      <td>0</td>\n",
       "      <td>0.0</td>\n",
       "      <td>1.0</td>\n",
       "      <td>0.0</td>\n",
       "      <td>0.0</td>\n",
       "      <td>0.0</td>\n",
       "      <td>0.0</td>\n",
       "      <td>1.0</td>\n",
       "      <td>0.0</td>\n",
       "      <td>0.0</td>\n",
       "      <td>0.0</td>\n",
       "      <td>0.0</td>\n",
       "      <td>0.0</td>\n",
       "      <td>1.0</td>\n",
       "      <td>0.0</td>\n",
       "      <td>0.0</td>\n",
       "      <td>0.0</td>\n",
       "      <td>0.0</td>\n",
       "      <td>0.0</td>\n",
       "      <td>0.0</td>\n",
       "      <td>0.0</td>\n",
       "      <td>0.0</td>\n",
       "      <td>0.0</td>\n",
       "      <td>0.0</td>\n",
       "      <td>0.0</td>\n",
       "      <td>0.0</td>\n",
       "      <td>0.0</td>\n",
       "      <td>1.0</td>\n",
       "      <td>0.0</td>\n",
       "      <td>0.0</td>\n",
       "    </tr>\n",
       "    <tr>\n",
       "      <th>66310712</th>\n",
       "      <td>35000.0</td>\n",
       "      <td>60</td>\n",
       "      <td>14.85</td>\n",
       "      <td>829.90</td>\n",
       "      <td>10</td>\n",
       "      <td>110000.0</td>\n",
       "      <td>17.06</td>\n",
       "      <td>0.0</td>\n",
       "      <td>785.0</td>\n",
       "      <td>789.0</td>\n",
       "      <td>0.0</td>\n",
       "      <td>-999.0</td>\n",
       "      <td>-999.0</td>\n",
       "      <td>13.0</td>\n",
       "      <td>0.0</td>\n",
       "      <td>7802.0</td>\n",
       "      <td>11.6</td>\n",
       "      <td>17.0</td>\n",
       "      <td>679.0</td>\n",
       "      <td>675.0</td>\n",
       "      <td>0.0</td>\n",
       "      <td>-999.0</td>\n",
       "      <td>0.0</td>\n",
       "      <td>0.0</td>\n",
       "      <td>301500.0</td>\n",
       "      <td>23.0</td>\n",
       "      <td>67300.0</td>\n",
       "      <td>2.0</td>\n",
       "      <td>23192.0</td>\n",
       "      <td>54962.0</td>\n",
       "      <td>12.1</td>\n",
       "      <td>0.0</td>\n",
       "      <td>36.0</td>\n",
       "      <td>87.0</td>\n",
       "      <td>2.0</td>\n",
       "      <td>2.0</td>\n",
       "      <td>1.0</td>\n",
       "      <td>2.0</td>\n",
       "      <td>-999.0</td>\n",
       "      <td>-999.0</td>\n",
       "      <td>-999.0</td>\n",
       "      <td>0.0</td>\n",
       "      <td>4.0</td>\n",
       "      <td>5.0</td>\n",
       "      <td>8.0</td>\n",
       "      <td>10.0</td>\n",
       "      <td>2.0</td>\n",
       "      <td>10.0</td>\n",
       "      <td>13.0</td>\n",
       "      <td>5.0</td>\n",
       "      <td>13.0</td>\n",
       "      <td>0.0</td>\n",
       "      <td>0.0</td>\n",
       "      <td>0.0</td>\n",
       "      <td>1.0</td>\n",
       "      <td>100.0</td>\n",
       "      <td>0.0</td>\n",
       "      <td>0.0</td>\n",
       "      <td>0.0</td>\n",
       "      <td>381215.0</td>\n",
       "      <td>52226.0</td>\n",
       "      <td>62500.0</td>\n",
       "      <td>18000.0</td>\n",
       "      <td>0</td>\n",
       "      <td>0.0</td>\n",
       "      <td>1.0</td>\n",
       "      <td>0.0</td>\n",
       "      <td>0.0</td>\n",
       "      <td>0.0</td>\n",
       "      <td>0.0</td>\n",
       "      <td>1.0</td>\n",
       "      <td>0.0</td>\n",
       "      <td>0.0</td>\n",
       "      <td>0.0</td>\n",
       "      <td>1.0</td>\n",
       "      <td>0.0</td>\n",
       "      <td>1.0</td>\n",
       "      <td>0.0</td>\n",
       "      <td>0.0</td>\n",
       "      <td>0.0</td>\n",
       "      <td>0.0</td>\n",
       "      <td>1.0</td>\n",
       "      <td>0.0</td>\n",
       "      <td>0.0</td>\n",
       "      <td>0.0</td>\n",
       "      <td>0.0</td>\n",
       "      <td>0.0</td>\n",
       "      <td>0.0</td>\n",
       "      <td>0.0</td>\n",
       "      <td>0.0</td>\n",
       "      <td>0.0</td>\n",
       "      <td>0.0</td>\n",
       "      <td>0.0</td>\n",
       "    </tr>\n",
       "    <tr>\n",
       "      <th>68476807</th>\n",
       "      <td>10400.0</td>\n",
       "      <td>60</td>\n",
       "      <td>22.45</td>\n",
       "      <td>289.91</td>\n",
       "      <td>3</td>\n",
       "      <td>104433.0</td>\n",
       "      <td>25.37</td>\n",
       "      <td>1.0</td>\n",
       "      <td>695.0</td>\n",
       "      <td>699.0</td>\n",
       "      <td>3.0</td>\n",
       "      <td>12.0</td>\n",
       "      <td>-999.0</td>\n",
       "      <td>12.0</td>\n",
       "      <td>0.0</td>\n",
       "      <td>21929.0</td>\n",
       "      <td>64.5</td>\n",
       "      <td>35.0</td>\n",
       "      <td>704.0</td>\n",
       "      <td>700.0</td>\n",
       "      <td>0.0</td>\n",
       "      <td>-999.0</td>\n",
       "      <td>0.0</td>\n",
       "      <td>0.0</td>\n",
       "      <td>331730.0</td>\n",
       "      <td>14.0</td>\n",
       "      <td>34000.0</td>\n",
       "      <td>10.0</td>\n",
       "      <td>27644.0</td>\n",
       "      <td>4567.0</td>\n",
       "      <td>77.5</td>\n",
       "      <td>0.0</td>\n",
       "      <td>128.0</td>\n",
       "      <td>210.0</td>\n",
       "      <td>4.0</td>\n",
       "      <td>4.0</td>\n",
       "      <td>6.0</td>\n",
       "      <td>4.0</td>\n",
       "      <td>12.0</td>\n",
       "      <td>1.0</td>\n",
       "      <td>12.0</td>\n",
       "      <td>0.0</td>\n",
       "      <td>4.0</td>\n",
       "      <td>6.0</td>\n",
       "      <td>5.0</td>\n",
       "      <td>9.0</td>\n",
       "      <td>10.0</td>\n",
       "      <td>7.0</td>\n",
       "      <td>19.0</td>\n",
       "      <td>6.0</td>\n",
       "      <td>12.0</td>\n",
       "      <td>0.0</td>\n",
       "      <td>0.0</td>\n",
       "      <td>0.0</td>\n",
       "      <td>4.0</td>\n",
       "      <td>96.6</td>\n",
       "      <td>60.0</td>\n",
       "      <td>0.0</td>\n",
       "      <td>0.0</td>\n",
       "      <td>439570.0</td>\n",
       "      <td>95768.0</td>\n",
       "      <td>20300.0</td>\n",
       "      <td>88097.0</td>\n",
       "      <td>0</td>\n",
       "      <td>0.0</td>\n",
       "      <td>0.0</td>\n",
       "      <td>0.0</td>\n",
       "      <td>0.0</td>\n",
       "      <td>1.0</td>\n",
       "      <td>0.0</td>\n",
       "      <td>1.0</td>\n",
       "      <td>0.0</td>\n",
       "      <td>0.0</td>\n",
       "      <td>0.0</td>\n",
       "      <td>1.0</td>\n",
       "      <td>0.0</td>\n",
       "      <td>1.0</td>\n",
       "      <td>0.0</td>\n",
       "      <td>0.0</td>\n",
       "      <td>0.0</td>\n",
       "      <td>0.0</td>\n",
       "      <td>0.0</td>\n",
       "      <td>0.0</td>\n",
       "      <td>0.0</td>\n",
       "      <td>0.0</td>\n",
       "      <td>1.0</td>\n",
       "      <td>0.0</td>\n",
       "      <td>0.0</td>\n",
       "      <td>0.0</td>\n",
       "      <td>0.0</td>\n",
       "      <td>0.0</td>\n",
       "      <td>0.0</td>\n",
       "      <td>0.0</td>\n",
       "    </tr>\n",
       "    <tr>\n",
       "      <th>68426831</th>\n",
       "      <td>11950.0</td>\n",
       "      <td>36</td>\n",
       "      <td>13.44</td>\n",
       "      <td>405.18</td>\n",
       "      <td>4</td>\n",
       "      <td>34000.0</td>\n",
       "      <td>10.20</td>\n",
       "      <td>0.0</td>\n",
       "      <td>690.0</td>\n",
       "      <td>694.0</td>\n",
       "      <td>0.0</td>\n",
       "      <td>-999.0</td>\n",
       "      <td>-999.0</td>\n",
       "      <td>5.0</td>\n",
       "      <td>0.0</td>\n",
       "      <td>8822.0</td>\n",
       "      <td>68.4</td>\n",
       "      <td>6.0</td>\n",
       "      <td>759.0</td>\n",
       "      <td>755.0</td>\n",
       "      <td>0.0</td>\n",
       "      <td>-999.0</td>\n",
       "      <td>0.0</td>\n",
       "      <td>0.0</td>\n",
       "      <td>12798.0</td>\n",
       "      <td>338.0</td>\n",
       "      <td>12900.0</td>\n",
       "      <td>0.0</td>\n",
       "      <td>2560.0</td>\n",
       "      <td>844.0</td>\n",
       "      <td>91.0</td>\n",
       "      <td>0.0</td>\n",
       "      <td>338.0</td>\n",
       "      <td>54.0</td>\n",
       "      <td>32.0</td>\n",
       "      <td>32.0</td>\n",
       "      <td>0.0</td>\n",
       "      <td>36.0</td>\n",
       "      <td>-999.0</td>\n",
       "      <td>-999.0</td>\n",
       "      <td>-999.0</td>\n",
       "      <td>0.0</td>\n",
       "      <td>2.0</td>\n",
       "      <td>3.0</td>\n",
       "      <td>2.0</td>\n",
       "      <td>2.0</td>\n",
       "      <td>2.0</td>\n",
       "      <td>4.0</td>\n",
       "      <td>4.0</td>\n",
       "      <td>3.0</td>\n",
       "      <td>5.0</td>\n",
       "      <td>0.0</td>\n",
       "      <td>0.0</td>\n",
       "      <td>0.0</td>\n",
       "      <td>0.0</td>\n",
       "      <td>100.0</td>\n",
       "      <td>100.0</td>\n",
       "      <td>0.0</td>\n",
       "      <td>0.0</td>\n",
       "      <td>16900.0</td>\n",
       "      <td>12798.0</td>\n",
       "      <td>9400.0</td>\n",
       "      <td>4000.0</td>\n",
       "      <td>0</td>\n",
       "      <td>0.0</td>\n",
       "      <td>1.0</td>\n",
       "      <td>0.0</td>\n",
       "      <td>0.0</td>\n",
       "      <td>0.0</td>\n",
       "      <td>0.0</td>\n",
       "      <td>0.0</td>\n",
       "      <td>0.0</td>\n",
       "      <td>0.0</td>\n",
       "      <td>1.0</td>\n",
       "      <td>1.0</td>\n",
       "      <td>0.0</td>\n",
       "      <td>0.0</td>\n",
       "      <td>0.0</td>\n",
       "      <td>0.0</td>\n",
       "      <td>1.0</td>\n",
       "      <td>0.0</td>\n",
       "      <td>1.0</td>\n",
       "      <td>0.0</td>\n",
       "      <td>0.0</td>\n",
       "      <td>0.0</td>\n",
       "      <td>0.0</td>\n",
       "      <td>0.0</td>\n",
       "      <td>0.0</td>\n",
       "      <td>0.0</td>\n",
       "      <td>0.0</td>\n",
       "      <td>0.0</td>\n",
       "      <td>0.0</td>\n",
       "      <td>0.0</td>\n",
       "    </tr>\n",
       "  </tbody>\n",
       "</table>\n",
       "</div>"
      ],
      "text/plain": [
       "          loan_amnt  term  int_rate  installment  emp_length  annual_inc  \\\n",
       "id                                                                         \n",
       "68407277     3600.0    36     13.99       123.03          10     55000.0   \n",
       "68355089    24700.0    36     11.99       820.28          10     65000.0   \n",
       "66310712    35000.0    60     14.85       829.90          10    110000.0   \n",
       "68476807    10400.0    60     22.45       289.91           3    104433.0   \n",
       "68426831    11950.0    36     13.44       405.18           4     34000.0   \n",
       "\n",
       "            dti  delinq_2yrs  fico_range_low  fico_range_high  inq_last_6mths  \\\n",
       "id                                                                              \n",
       "68407277   5.91          0.0           675.0            679.0             1.0   \n",
       "68355089  16.06          1.0           715.0            719.0             4.0   \n",
       "66310712  17.06          0.0           785.0            789.0             0.0   \n",
       "68476807  25.37          1.0           695.0            699.0             3.0   \n",
       "68426831  10.20          0.0           690.0            694.0             0.0   \n",
       "\n",
       "          mths_since_last_delinq  mths_since_last_record  open_acc  pub_rec  \\\n",
       "id                                                                            \n",
       "68407277                    30.0                  -999.0       7.0      0.0   \n",
       "68355089                     6.0                  -999.0      22.0      0.0   \n",
       "66310712                  -999.0                  -999.0      13.0      0.0   \n",
       "68476807                    12.0                  -999.0      12.0      0.0   \n",
       "68426831                  -999.0                  -999.0       5.0      0.0   \n",
       "\n",
       "          revol_bal  revol_util  total_acc  last_fico_range_high  \\\n",
       "id                                                                 \n",
       "68407277     2765.0        29.7       13.0                 564.0   \n",
       "68355089    21470.0        19.2       38.0                 699.0   \n",
       "66310712     7802.0        11.6       17.0                 679.0   \n",
       "68476807    21929.0        64.5       35.0                 704.0   \n",
       "68426831     8822.0        68.4        6.0                 759.0   \n",
       "\n",
       "          last_fico_range_low  collections_12_mths_ex_med  \\\n",
       "id                                                          \n",
       "68407277                560.0                         0.0   \n",
       "68355089                695.0                         0.0   \n",
       "66310712                675.0                         0.0   \n",
       "68476807                700.0                         0.0   \n",
       "68426831                755.0                         0.0   \n",
       "\n",
       "          mths_since_last_major_derog  acc_now_delinq  tot_coll_amt  \\\n",
       "id                                                                    \n",
       "68407277                         30.0             0.0         722.0   \n",
       "68355089                       -999.0             0.0           0.0   \n",
       "66310712                       -999.0             0.0           0.0   \n",
       "68476807                       -999.0             0.0           0.0   \n",
       "68426831                       -999.0             0.0           0.0   \n",
       "\n",
       "          tot_cur_bal  mths_since_rcnt_il  total_rev_hi_lim  \\\n",
       "id                                                            \n",
       "68407277     144904.0                21.0            9300.0   \n",
       "68355089     204396.0                19.0          111800.0   \n",
       "66310712     301500.0                23.0           67300.0   \n",
       "68476807     331730.0                14.0           34000.0   \n",
       "68426831      12798.0               338.0           12900.0   \n",
       "\n",
       "          acc_open_past_24mths  avg_cur_bal  bc_open_to_buy  bc_util  \\\n",
       "id                                                                     \n",
       "68407277                   4.0      20701.0          1506.0     37.2   \n",
       "68355089                   4.0       9733.0         57830.0     27.1   \n",
       "66310712                   2.0      23192.0         54962.0     12.1   \n",
       "68476807                  10.0      27644.0          4567.0     77.5   \n",
       "68426831                   0.0       2560.0           844.0     91.0   \n",
       "\n",
       "          chargeoff_within_12_mths  mo_sin_old_il_acct  mo_sin_old_rev_tl_op  \\\n",
       "id                                                                             \n",
       "68407277                       0.0               148.0                 128.0   \n",
       "68355089                       0.0               113.0                 192.0   \n",
       "66310712                       0.0                36.0                  87.0   \n",
       "68476807                       0.0               128.0                 210.0   \n",
       "68426831                       0.0               338.0                  54.0   \n",
       "\n",
       "          mo_sin_rcnt_rev_tl_op  mo_sin_rcnt_tl  mort_acc  \\\n",
       "id                                                          \n",
       "68407277                    3.0             3.0       1.0   \n",
       "68355089                    2.0             2.0       4.0   \n",
       "66310712                    2.0             2.0       1.0   \n",
       "68476807                    4.0             4.0       6.0   \n",
       "68426831                   32.0            32.0       0.0   \n",
       "\n",
       "          mths_since_recent_bc  mths_since_recent_bc_dlq  \\\n",
       "id                                                         \n",
       "68407277                   4.0                      69.0   \n",
       "68355089                   2.0                    -999.0   \n",
       "66310712                   2.0                    -999.0   \n",
       "68476807                   4.0                      12.0   \n",
       "68426831                  36.0                    -999.0   \n",
       "\n",
       "          mths_since_recent_inq  mths_since_recent_revol_delinq  \\\n",
       "id                                                                \n",
       "68407277                    4.0                            69.0   \n",
       "68355089                    0.0                             6.0   \n",
       "66310712                 -999.0                          -999.0   \n",
       "68476807                    1.0                            12.0   \n",
       "68426831                 -999.0                          -999.0   \n",
       "\n",
       "          num_accts_ever_120_pd  num_actv_bc_tl  num_actv_rev_tl  num_bc_sats  \\\n",
       "id                                                                              \n",
       "68407277                    2.0             2.0              4.0          2.0   \n",
       "68355089                    0.0             5.0              5.0         13.0   \n",
       "66310712                    0.0             4.0              5.0          8.0   \n",
       "68476807                    0.0             4.0              6.0          5.0   \n",
       "68426831                    0.0             2.0              3.0          2.0   \n",
       "\n",
       "          num_bc_tl  num_il_tl  num_op_rev_tl  num_rev_accts  \\\n",
       "id                                                             \n",
       "68407277        5.0        3.0            4.0            9.0   \n",
       "68355089       17.0        6.0           20.0           27.0   \n",
       "66310712       10.0        2.0           10.0           13.0   \n",
       "68476807        9.0       10.0            7.0           19.0   \n",
       "68426831        2.0        2.0            4.0            4.0   \n",
       "\n",
       "          num_rev_tl_bal_gt_0  num_sats  num_tl_120dpd_2m  num_tl_30dpd  \\\n",
       "id                                                                        \n",
       "68407277                  4.0       7.0               0.0           0.0   \n",
       "68355089                  5.0      22.0               0.0           0.0   \n",
       "66310712                  5.0      13.0               0.0           0.0   \n",
       "68476807                  6.0      12.0               0.0           0.0   \n",
       "68426831                  3.0       5.0               0.0           0.0   \n",
       "\n",
       "          num_tl_90g_dpd_24m  num_tl_op_past_12m  pct_tl_nvr_dlq  \\\n",
       "id                                                                 \n",
       "68407277                 0.0                 3.0            76.9   \n",
       "68355089                 0.0                 2.0            97.4   \n",
       "66310712                 0.0                 1.0           100.0   \n",
       "68476807                 0.0                 4.0            96.6   \n",
       "68426831                 0.0                 0.0           100.0   \n",
       "\n",
       "          percent_bc_gt_75  pub_rec_bankruptcies  tax_liens  tot_hi_cred_lim  \\\n",
       "id                                                                             \n",
       "68407277               0.0                   0.0        0.0         178050.0   \n",
       "68355089               7.7                   0.0        0.0         314017.0   \n",
       "66310712               0.0                   0.0        0.0         381215.0   \n",
       "68476807              60.0                   0.0        0.0         439570.0   \n",
       "68426831             100.0                   0.0        0.0          16900.0   \n",
       "\n",
       "          total_bal_ex_mort  total_bc_limit  total_il_high_credit_limit  \\\n",
       "id                                                                        \n",
       "68407277             7746.0          2400.0                     13734.0   \n",
       "68355089            39475.0         79300.0                     24667.0   \n",
       "66310712            52226.0         62500.0                     18000.0   \n",
       "68476807            95768.0         20300.0                     88097.0   \n",
       "68426831            12798.0          9400.0                      4000.0   \n",
       "\n",
       "          default  x0_B  x0_C  x0_D  x0_E  x0_F  x0_G  x1_MORTGAGE  x1_NONE  \\\n",
       "id                                                                            \n",
       "68407277        0   0.0   1.0   0.0   0.0   0.0   0.0          1.0      0.0   \n",
       "68355089        0   0.0   1.0   0.0   0.0   0.0   0.0          1.0      0.0   \n",
       "66310712        0   0.0   1.0   0.0   0.0   0.0   0.0          1.0      0.0   \n",
       "68476807        0   0.0   0.0   0.0   0.0   1.0   0.0          1.0      0.0   \n",
       "68426831        0   0.0   1.0   0.0   0.0   0.0   0.0          0.0      0.0   \n",
       "\n",
       "          x1_OWN  x1_RENT  x2_Source Verified  x2_Verified  x3_MORTGAGE  \\\n",
       "id                                                                        \n",
       "68407277     0.0      0.0                 0.0          0.0          1.0   \n",
       "68355089     0.0      0.0                 0.0          0.0          1.0   \n",
       "66310712     0.0      0.0                 1.0          0.0          1.0   \n",
       "68476807     0.0      0.0                 1.0          0.0          1.0   \n",
       "68426831     0.0      1.0                 1.0          0.0          0.0   \n",
       "\n",
       "          x3_NONE  x3_OWN  x3_RENT  x4_credit_card  x4_debt_consolidation  \\\n",
       "id                                                                          \n",
       "68407277      0.0     0.0      0.0             0.0                    1.0   \n",
       "68355089      0.0     0.0      0.0             0.0                    0.0   \n",
       "66310712      0.0     0.0      0.0             0.0                    1.0   \n",
       "68476807      0.0     0.0      0.0             0.0                    0.0   \n",
       "68426831      0.0     0.0      1.0             0.0                    1.0   \n",
       "\n",
       "          x4_educational  x4_home_improvement  x4_house  x4_major_purchase  \\\n",
       "id                                                                           \n",
       "68407277             0.0                  0.0       0.0                0.0   \n",
       "68355089             0.0                  0.0       0.0                0.0   \n",
       "66310712             0.0                  0.0       0.0                0.0   \n",
       "68476807             0.0                  0.0       0.0                1.0   \n",
       "68426831             0.0                  0.0       0.0                0.0   \n",
       "\n",
       "          x4_medical  x4_moving  x4_other  x4_renewable_energy  \\\n",
       "id                                                               \n",
       "68407277         0.0        0.0       0.0                  0.0   \n",
       "68355089         0.0        0.0       0.0                  0.0   \n",
       "66310712         0.0        0.0       0.0                  0.0   \n",
       "68476807         0.0        0.0       0.0                  0.0   \n",
       "68426831         0.0        0.0       0.0                  0.0   \n",
       "\n",
       "          x4_small_business  x4_vacation  x4_wedding  \n",
       "id                                                    \n",
       "68407277                0.0          0.0         0.0  \n",
       "68355089                1.0          0.0         0.0  \n",
       "66310712                0.0          0.0         0.0  \n",
       "68476807                0.0          0.0         0.0  \n",
       "68426831                0.0          0.0         0.0  "
      ]
     },
     "execution_count": 2,
     "metadata": {},
     "output_type": "execute_result"
    }
   ],
   "source": [
    "df = pd.read_csv('datasets/MLready.csv', index_col='id')\n",
    "df.head()"
   ]
  },
  {
   "cell_type": "code",
   "execution_count": 3,
   "metadata": {
    "colab": {},
    "colab_type": "code",
    "id": "LGkrZOVoJzi1"
   },
   "outputs": [],
   "source": [
    "X = df.drop(columns='default')\n",
    "y = df['default']\n",
    "X_train, X_test, y_train, y_test = train_test_split(X, y, test_size=.2, random_state=7)"
   ]
  },
  {
   "cell_type": "markdown",
   "metadata": {
    "colab_type": "text",
    "id": "ClKgrIVxhhjw"
   },
   "source": [
    "# ROC AUC Optimization"
   ]
  },
  {
   "cell_type": "markdown",
   "metadata": {
    "colab_type": "text",
    "id": "bqO-_TzaZgLQ"
   },
   "source": [
    "First, we establish a baseline for ROC AUC scores. "
   ]
  },
  {
   "cell_type": "code",
   "execution_count": 4,
   "metadata": {
    "colab": {},
    "colab_type": "code",
    "id": "qr461cowJ9Fi"
   },
   "outputs": [],
   "source": [
    "baseclf = lgb.LGBMClassifier()"
   ]
  },
  {
   "cell_type": "code",
   "execution_count": 13,
   "metadata": {
    "colab": {
     "base_uri": "https://localhost:8080/",
     "height": 52
    },
    "colab_type": "code",
    "id": "vv96kcZt0okr",
    "outputId": "2227a279-24f4-4dda-b5b3-a3f6adde56ed"
   },
   "outputs": [
    {
     "name": "stdout",
     "output_type": "stream",
     "text": [
      "Baseline CV ROC AUC scores: [0.95914846 0.95863194 0.95866639 0.95894446 0.95853578]\n",
      "Baseline mean ROC AUC scores: 0.9587854087348091\n"
     ]
    }
   ],
   "source": [
    "baseroc_cv_scores = cross_val_score(baseclf, X_train, y_train, cv=5, scoring='roc_auc')\n",
    "print(f'Baseline CV ROC AUC scores: {baseroc_cv_scores}')\n",
    "print(f'Baseline mean ROC AUC scores: {baseroc_cv_scores.mean()}')"
   ]
  },
  {
   "cell_type": "markdown",
   "metadata": {},
   "source": [
    "Then we list all the parameters we want our function to test through along with what values to use for testing. "
   ]
  },
  {
   "cell_type": "code",
   "execution_count": 6,
   "metadata": {
    "colab": {},
    "colab_type": "code",
    "id": "NksXeqc9KNZQ"
   },
   "outputs": [],
   "source": [
    "space = [Real(0.01, 0.5, name='learning_rate', prior='log-uniform'),\n",
    "         Integer(-1, 30, name='max_depth'),\n",
    "         Integer(2, 100, name='num_leaves'),\n",
    "         Integer(10, 1000, name='min_data_in_leaf'),\n",
    "         Real(0.1, 1.0, name='feature_fraction', prior='uniform'),\n",
    "         Real(0.1, 1.0, name='subsample', prior='uniform')]"
   ]
  },
  {
   "cell_type": "code",
   "execution_count": 7,
   "metadata": {
    "colab": {},
    "colab_type": "code",
    "id": "3f6lL6CFX_yX"
   },
   "outputs": [],
   "source": [
    "clf = lgb.LGBMClassifier()"
   ]
  },
  {
   "cell_type": "code",
   "execution_count": 8,
   "metadata": {
    "colab": {},
    "colab_type": "code",
    "id": "eyUlONxRKPyl"
   },
   "outputs": [],
   "source": [
    "@use_named_args(space)\n",
    "def rocaucobjective(**params):\n",
    "    clf.set_params(**params)\n",
    "    return -np.mean(cross_val_score(clf, X_train, y_train, cv=5, n_jobs=-1, scoring=\"roc_auc\"))\n"
   ]
  },
  {
   "cell_type": "markdown",
   "metadata": {},
   "source": [
    "We will be using gp_minimize along with our function to optimize our classifier. "
   ]
  },
  {
   "cell_type": "code",
   "execution_count": 9,
   "metadata": {
    "colab": {
     "base_uri": "https://localhost:8080/",
     "height": 1000
    },
    "colab_type": "code",
    "id": "h3J0p54fKR5k",
    "outputId": "2c884459-b751-41fa-d437-631f5b27efe5"
   },
   "outputs": [],
   "source": [
    "roc_gp = gp_minimize(rocaucobjective, space, n_calls=200)"
   ]
  },
  {
   "cell_type": "code",
   "execution_count": 10,
   "metadata": {
    "colab": {
     "base_uri": "https://localhost:8080/"
    },
    "colab_type": "code",
    "id": "8vZ5OJmmKUpY",
    "outputId": "4ee66534-96bc-4342-81a8-2493a35e4f30"
   },
   "outputs": [
    {
     "name": "stdout",
     "output_type": "stream",
     "text": [
      "Best parameters:\n",
      "- learning_rate=0.098287\n",
      "- max_depth=30\n",
      "- num_leaves=100\n",
      "- min_data_in_leaf=1000\n",
      "- feature_fraction=0.572435\n",
      "- subsample=1.000000\n"
     ]
    }
   ],
   "source": [
    "print(\"\"\"Best parameters:\n",
    "- learning_rate=%.6f\n",
    "- max_depth=%d\n",
    "- num_leaves=%d\n",
    "- min_data_in_leaf=%d\n",
    "- feature_fraction=%.6f\n",
    "- subsample=%.6f\"\"\" % (roc_gp.x[0], roc_gp.x[1], \n",
    "                            roc_gp.x[2], roc_gp.x[3], \n",
    "                            roc_gp.x[4],roc_gp.x[5]))"
   ]
  },
  {
   "cell_type": "markdown",
   "metadata": {},
   "source": [
    "Now that we have our hyperparameters, let's put them to the test. "
   ]
  },
  {
   "cell_type": "code",
   "execution_count": 6,
   "metadata": {
    "colab": {},
    "colab_type": "code",
    "id": "HgkGnNJJR8Bn"
   },
   "outputs": [],
   "source": [
    "rocclf = lgb.LGBMClassifier(learning_rate=0.098287, max_depth=30, num_leaves=100, min_data_in_leaf=1000, \n",
    "                            feature_fraction=.572435, subsample=.1)"
   ]
  },
  {
   "cell_type": "code",
   "execution_count": 14,
   "metadata": {
    "colab": {
     "base_uri": "https://localhost:8080/",
     "height": 69
    },
    "colab_type": "code",
    "id": "-l4RqlNuPsGZ",
    "outputId": "50c6ad37-a172-4c02-fe1f-df1ead8abb13"
   },
   "outputs": [
    {
     "name": "stdout",
     "output_type": "stream",
     "text": [
      "ROC CV scores: [0.95976351 0.95918205 0.95932349 0.95952403 0.95909166]\n",
      "ROC CV mean scores: 0.9593769466004319\n",
      "Our mean ROC AUC score improved by 0.0005915378656228265\n"
     ]
    }
   ],
   "source": [
    "roc_cv_scores = cross_val_score(rocclf, X_train, y_train, cv=5, scoring='roc_auc')\n",
    "print(f'ROC CV scores: {roc_cv_scores}')\n",
    "print(f'ROC CV mean scores: {roc_cv_scores.mean()}')\n",
    "print(f'Our mean ROC AUC score improved by {roc_cv_scores.mean() - baseroc_cv_scores.mean()}')"
   ]
  },
  {
   "cell_type": "markdown",
   "metadata": {},
   "source": [
    "After all that, our classifier improved negligibly. Let's see how f1 optimization fares.  "
   ]
  },
  {
   "cell_type": "markdown",
   "metadata": {
    "colab_type": "text",
    "id": "5B9ZMq3bh7jb"
   },
   "source": [
    "# F1 Scoring Optimization "
   ]
  },
  {
   "cell_type": "markdown",
   "metadata": {},
   "source": [
    "Now we will exactly the same as before but apply it to f1 optimization. "
   ]
  },
  {
   "cell_type": "code",
   "execution_count": 8,
   "metadata": {
    "colab": {},
    "colab_type": "code",
    "id": "UIBLFF0HsdIT"
   },
   "outputs": [],
   "source": [
    "baseclf = lgb.LGBMClassifier()"
   ]
  },
  {
   "cell_type": "code",
   "execution_count": 9,
   "metadata": {
    "colab": {
     "base_uri": "https://localhost:8080/",
     "height": 52
    },
    "colab_type": "code",
    "id": "APkSsj2T6etR",
    "outputId": "adf7b33f-4866-4835-cb2d-a742779bc01b"
   },
   "outputs": [
    {
     "name": "stdout",
     "output_type": "stream",
     "text": [
      "Baseline CV F1 scores: [0.74832162 0.74648361 0.74808544 0.75010108 0.74713777]\n",
      "Baseline mean F1 scores: 0.7480259035225434\n"
     ]
    }
   ],
   "source": [
    "base_f1cv_scores = cross_val_score(baseclf, X_train, y_train, cv=5, scoring='f1')\n",
    "print(f'Baseline CV F1 scores: {base_f1cv_scores}')\n",
    "print(f'Baseline mean F1 scores: {base_f1cv_scores.mean()}')"
   ]
  },
  {
   "cell_type": "code",
   "execution_count": 15,
   "metadata": {
    "colab": {},
    "colab_type": "code",
    "id": "y6V8oWh-JcuO"
   },
   "outputs": [],
   "source": [
    "f1clf = lgb.LGBMClassifier()"
   ]
  },
  {
   "cell_type": "code",
   "execution_count": 16,
   "metadata": {
    "colab": {},
    "colab_type": "code",
    "id": "L_azvgwmh8z_"
   },
   "outputs": [],
   "source": [
    "@use_named_args(space)\n",
    "def f1objective(**params):\n",
    "    clf.set_params(**params)\n",
    "    return -np.mean(cross_val_score(f1clf, X_train, y_train, cv=5, n_jobs=-1,\n",
    "                                    scoring=\"f1\"))"
   ]
  },
  {
   "cell_type": "code",
   "execution_count": 17,
   "metadata": {
    "colab": {},
    "colab_type": "code",
    "id": "qYrKNedUiGDC"
   },
   "outputs": [
    {
     "name": "stderr",
     "output_type": "stream",
     "text": [
      "C:\\Users\\hunte\\Anaconda3\\lib\\site-packages\\skopt\\optimizer\\optimizer.py:409: UserWarning: The objective has been evaluated at this point before.\n",
      "  warnings.warn(\"The objective has been evaluated \"\n",
      "C:\\Users\\hunte\\Anaconda3\\lib\\site-packages\\skopt\\optimizer\\optimizer.py:409: UserWarning: The objective has been evaluated at this point before.\n",
      "  warnings.warn(\"The objective has been evaluated \"\n",
      "C:\\Users\\hunte\\Anaconda3\\lib\\site-packages\\skopt\\optimizer\\optimizer.py:409: UserWarning: The objective has been evaluated at this point before.\n",
      "  warnings.warn(\"The objective has been evaluated \"\n",
      "C:\\Users\\hunte\\Anaconda3\\lib\\site-packages\\skopt\\optimizer\\optimizer.py:409: UserWarning: The objective has been evaluated at this point before.\n",
      "  warnings.warn(\"The objective has been evaluated \"\n",
      "C:\\Users\\hunte\\Anaconda3\\lib\\site-packages\\skopt\\optimizer\\optimizer.py:409: UserWarning: The objective has been evaluated at this point before.\n",
      "  warnings.warn(\"The objective has been evaluated \"\n",
      "C:\\Users\\hunte\\Anaconda3\\lib\\site-packages\\skopt\\optimizer\\optimizer.py:409: UserWarning: The objective has been evaluated at this point before.\n",
      "  warnings.warn(\"The objective has been evaluated \"\n",
      "C:\\Users\\hunte\\Anaconda3\\lib\\site-packages\\skopt\\optimizer\\optimizer.py:409: UserWarning: The objective has been evaluated at this point before.\n",
      "  warnings.warn(\"The objective has been evaluated \"\n",
      "C:\\Users\\hunte\\Anaconda3\\lib\\site-packages\\skopt\\optimizer\\optimizer.py:409: UserWarning: The objective has been evaluated at this point before.\n",
      "  warnings.warn(\"The objective has been evaluated \"\n",
      "C:\\Users\\hunte\\Anaconda3\\lib\\site-packages\\skopt\\optimizer\\optimizer.py:409: UserWarning: The objective has been evaluated at this point before.\n",
      "  warnings.warn(\"The objective has been evaluated \"\n",
      "C:\\Users\\hunte\\Anaconda3\\lib\\site-packages\\skopt\\optimizer\\optimizer.py:409: UserWarning: The objective has been evaluated at this point before.\n",
      "  warnings.warn(\"The objective has been evaluated \"\n",
      "C:\\Users\\hunte\\Anaconda3\\lib\\site-packages\\skopt\\optimizer\\optimizer.py:409: UserWarning: The objective has been evaluated at this point before.\n",
      "  warnings.warn(\"The objective has been evaluated \"\n",
      "C:\\Users\\hunte\\Anaconda3\\lib\\site-packages\\skopt\\optimizer\\optimizer.py:409: UserWarning: The objective has been evaluated at this point before.\n",
      "  warnings.warn(\"The objective has been evaluated \"\n",
      "C:\\Users\\hunte\\Anaconda3\\lib\\site-packages\\skopt\\optimizer\\optimizer.py:409: UserWarning: The objective has been evaluated at this point before.\n",
      "  warnings.warn(\"The objective has been evaluated \"\n",
      "C:\\Users\\hunte\\Anaconda3\\lib\\site-packages\\skopt\\optimizer\\optimizer.py:409: UserWarning: The objective has been evaluated at this point before.\n",
      "  warnings.warn(\"The objective has been evaluated \"\n",
      "C:\\Users\\hunte\\Anaconda3\\lib\\site-packages\\skopt\\optimizer\\optimizer.py:409: UserWarning: The objective has been evaluated at this point before.\n",
      "  warnings.warn(\"The objective has been evaluated \"\n",
      "C:\\Users\\hunte\\Anaconda3\\lib\\site-packages\\skopt\\optimizer\\optimizer.py:409: UserWarning: The objective has been evaluated at this point before.\n",
      "  warnings.warn(\"The objective has been evaluated \"\n",
      "C:\\Users\\hunte\\Anaconda3\\lib\\site-packages\\skopt\\optimizer\\optimizer.py:409: UserWarning: The objective has been evaluated at this point before.\n",
      "  warnings.warn(\"The objective has been evaluated \"\n",
      "C:\\Users\\hunte\\Anaconda3\\lib\\site-packages\\skopt\\optimizer\\optimizer.py:409: UserWarning: The objective has been evaluated at this point before.\n",
      "  warnings.warn(\"The objective has been evaluated \"\n",
      "C:\\Users\\hunte\\Anaconda3\\lib\\site-packages\\skopt\\optimizer\\optimizer.py:409: UserWarning: The objective has been evaluated at this point before.\n",
      "  warnings.warn(\"The objective has been evaluated \"\n",
      "C:\\Users\\hunte\\Anaconda3\\lib\\site-packages\\skopt\\optimizer\\optimizer.py:409: UserWarning: The objective has been evaluated at this point before.\n",
      "  warnings.warn(\"The objective has been evaluated \"\n",
      "C:\\Users\\hunte\\Anaconda3\\lib\\site-packages\\skopt\\optimizer\\optimizer.py:409: UserWarning: The objective has been evaluated at this point before.\n",
      "  warnings.warn(\"The objective has been evaluated \"\n",
      "C:\\Users\\hunte\\Anaconda3\\lib\\site-packages\\skopt\\optimizer\\optimizer.py:409: UserWarning: The objective has been evaluated at this point before.\n",
      "  warnings.warn(\"The objective has been evaluated \"\n"
     ]
    }
   ],
   "source": [
    "f1_gp = gp_minimize(f1objective, space, n_calls=200)"
   ]
  },
  {
   "cell_type": "code",
   "execution_count": 18,
   "metadata": {
    "colab": {},
    "colab_type": "code",
    "id": "oC_iiTjEvC4o"
   },
   "outputs": [
    {
     "name": "stdout",
     "output_type": "stream",
     "text": [
      "Best parameters:\n",
      "- learning_rate=0.011324 \n",
      "- max_depth=2\n",
      "- num_leaves=29\n",
      "- min_data_in_leaf=131\n",
      "- feature_fraction=0.846410\n",
      "- subsample=0.619899\n"
     ]
    }
   ],
   "source": [
    "print(\"\"\"Best parameters:\n",
    "- learning_rate=%.6f \n",
    "- max_depth=%d\n",
    "- num_leaves=%d\n",
    "- min_data_in_leaf=%d\n",
    "- feature_fraction=%.6f\n",
    "- subsample=%.6f\"\"\" % (f1_gp.x[0], f1_gp.x[1], f1_gp.x[2], f1_gp.x[3], f1_gp.x[4],f1_gp.x[5]))\n"
   ]
  },
  {
   "cell_type": "code",
   "execution_count": 10,
   "metadata": {
    "colab": {},
    "colab_type": "code",
    "id": "dozxw-0ZmRmr"
   },
   "outputs": [],
   "source": [
    "f1clf = lgb.LGBMClassifier(learning_rate=0.011324, max_depth=2, num_leaves=29, min_data_in_leaf=131, \n",
    "                            feature_fraction=0.846410, subsample=0.619899)\n"
   ]
  },
  {
   "cell_type": "code",
   "execution_count": 15,
   "metadata": {
    "colab": {
     "base_uri": "https://localhost:8080/",
     "height": 69
    },
    "colab_type": "code",
    "id": "jl3o3EUcrEji",
    "outputId": "691ac9a5-2311-4c08-815a-4101efa2be16"
   },
   "outputs": [
    {
     "name": "stdout",
     "output_type": "stream",
     "text": [
      "F1 Classifier CV F1 scores: [0.64145833 0.6445747  0.64371958 0.64282599 0.64119685]\n",
      "F1 Classifier mean F1 scores: 0.6427550894594916\n",
      "Our mean F1 score improved by -0.10527081406305183\n"
     ]
    }
   ],
   "source": [
    "f1clf_cv_scores = cross_val_score(f1clf, X_train, y_train, cv=5, scoring='f1')\n",
    "print(f'F1 Classifier CV F1 scores: {f1clf_cv_scores}')\n",
    "print(f'F1 Classifier mean F1 scores: {f1clf_cv_scores.mean()}')\n",
    "print(f'Our mean F1 score improved by {f1clf_cv_scores.mean() - base_f1cv_scores.mean()}')"
   ]
  },
  {
   "cell_type": "markdown",
   "metadata": {},
   "source": [
    "And our f1 scores actually came out quite a bit worse. This does not bode well for improving our model but since we're here, let's give it a shot anyway. "
   ]
  },
  {
   "cell_type": "markdown",
   "metadata": {
    "colab_type": "text",
    "id": "62uRvyWFySgF"
   },
   "source": [
    "# Putting Classifiers To The Test"
   ]
  },
  {
   "cell_type": "markdown",
   "metadata": {},
   "source": [
    "Establish our baseline:"
   ]
  },
  {
   "cell_type": "code",
   "execution_count": 18,
   "metadata": {
    "colab": {
     "base_uri": "https://localhost:8080/",
     "height": 243
    },
    "colab_type": "code",
    "id": "sPLfTZJ9wGie",
    "outputId": "4ef276e3-4e4c-4b1d-d13f-1da504a0e725"
   },
   "outputs": [
    {
     "name": "stdout",
     "output_type": "stream",
     "text": [
      "\n",
      "\n",
      " ---Default Model---\n",
      "ROC AUC = 0.85\n",
      "              precision    recall  f1-score   support\n",
      "\n",
      "           0     0.9583    0.9566    0.9575    211463\n",
      "           1     0.7423    0.7502    0.7463     35214\n",
      "\n",
      "    accuracy                         0.9272    246677\n",
      "   macro avg     0.8503    0.8534    0.8519    246677\n",
      "weighted avg     0.9275    0.9272    0.9273    246677\n",
      "\n"
     ]
    }
   ],
   "source": [
    "baseclf = lgb.LGBMClassifier()\n",
    "baseclf.fit(X_train, y_train)\n",
    "\n",
    "print (\"\\n\\n ---Default Model---\")\n",
    "base_roc_auc = roc_auc_score(y_test, baseclf.predict(X_test))\n",
    "print (\"ROC AUC = %2.2f\" % base_roc_auc)\n",
    "print(classification_report(y_test, baseclf.predict(X_test), digits=4))"
   ]
  },
  {
   "cell_type": "markdown",
   "metadata": {},
   "source": [
    "Compare the ROC AUC optimized model:"
   ]
  },
  {
   "cell_type": "code",
   "execution_count": 17,
   "metadata": {},
   "outputs": [
    {
     "name": "stdout",
     "output_type": "stream",
     "text": [
      "\n",
      "\n",
      " ---ROC AUC Model---\n",
      "ROC AUC = 0.85\n",
      "              precision    recall  f1-score   support\n",
      "\n",
      "           0     0.9583    0.9567    0.9575    211463\n",
      "           1     0.7427    0.7502    0.7465     35214\n",
      "\n",
      "    accuracy                         0.9272    246677\n",
      "   macro avg     0.8505    0.8535    0.8520    246677\n",
      "weighted avg     0.9276    0.9272    0.9274    246677\n",
      "\n"
     ]
    }
   ],
   "source": [
    "rocclf = lgb.LGBMClassifier(learning_rate=0.098287, max_depth=30, num_leaves=100, min_data_in_leaf=1000, \n",
    "                            feature_fraction=.572435, subsample=.1)\n",
    "rocclf.fit(X_train, y_train)\n",
    "\n",
    "print (\"\\n\\n ---ROC AUC Model---\")\n",
    "roc_roc_auc = roc_auc_score(y_test, rocclf.predict(X_test))\n",
    "print (\"ROC AUC = %2.2f\" % roc_roc_auc)\n",
    "print(classification_report(y_test, rocclf.predict(X_test), digits=4))"
   ]
  },
  {
   "cell_type": "markdown",
   "metadata": {},
   "source": [
    "This is better by only the slimmest of margins. \n",
    "\n",
    "Finally, let's compare the F1 optimized model:"
   ]
  },
  {
   "cell_type": "code",
   "execution_count": 19,
   "metadata": {
    "colab": {
     "base_uri": "https://localhost:8080/",
     "height": 243
    },
    "colab_type": "code",
    "id": "NCmcdDn3uokI",
    "outputId": "4492c830-aba0-4419-e524-2e4adb8afc35"
   },
   "outputs": [
    {
     "name": "stdout",
     "output_type": "stream",
     "text": [
      "\n",
      "\n",
      " ---F1 Model---\n",
      "ROC AUC = 0.76\n",
      "              precision    recall  f1-score   support\n",
      "\n",
      "           0     0.9274    0.9738    0.9501    211463\n",
      "           1     0.7753    0.5422    0.6381     35214\n",
      "\n",
      "    accuracy                         0.9122    246677\n",
      "   macro avg     0.8514    0.7580    0.7941    246677\n",
      "weighted avg     0.9057    0.9122    0.9055    246677\n",
      "\n"
     ]
    }
   ],
   "source": [
    "f1clf = lgb.LGBMClassifier(learning_rate=0.011324, max_depth=2, num_leaves=29, min_data_in_leaf=131, \n",
    "                            feature_fraction=0.846410, subsample=0.619899)\n",
    "f1clf.fit(X_train, y_train)\n",
    "\n",
    "print (\"\\n\\n ---F1 Model---\")\n",
    "f1_roc_auc = roc_auc_score(y_test, f1clf.predict(X_test))\n",
    "print (\"ROC AUC = %2.2f\" % f1_roc_auc)\n",
    "print(classification_report(y_test, f1clf.predict(X_test), digits=4))"
   ]
  },
  {
   "cell_type": "markdown",
   "metadata": {
    "colab": {
     "base_uri": "https://localhost:8080/",
     "height": 243
    },
    "colab_type": "code",
    "id": "8mZAeCfb_drL",
    "outputId": "308ebb0f-5d7e-410c-9063-051707d47381"
   },
   "source": [
    "And this one is worse than our baseline. Looks like ROC AUC optimization was the way to go. "
   ]
  },
  {
   "cell_type": "markdown",
   "metadata": {
    "colab": {},
    "colab_type": "code",
    "id": "Gy0k99RF_Ts6"
   },
   "source": [
    "# Final Analysis"
   ]
  },
  {
   "cell_type": "markdown",
   "metadata": {},
   "source": [
    "#### Feature Importances"
   ]
  },
  {
   "cell_type": "code",
   "execution_count": 26,
   "metadata": {
    "colab": {},
    "colab_type": "code",
    "id": "xqGczmpW_YST"
   },
   "outputs": [
    {
     "data": {
      "image/png": "[encoded data removed]",
      "text/plain": [
       "<Figure size 936x504 with 1 Axes>"
      ]
     },
     "metadata": {},
     "output_type": "display_data"
    }
   ],
   "source": [
    "feature_importances = pd.DataFrame(rocclf.feature_importances_,\n",
    "                                   index = X_train.columns,\n",
    "                                    columns=['importance']).sort_values('importance', ascending=False)\n",
    "feature_importances = feature_importances.reset_index()\n",
    "\n",
    "sns.set(style=\"whitegrid\")\n",
    "\n",
    "# Initialize the matplotlib figure\n",
    "f, ax = plt.subplots(figsize=(13, 7))\n",
    "\n",
    "# Plot the Feature Importance\n",
    "sns.set_color_codes(\"pastel\")\n",
    "sns.barplot(x=\"importance\", y='index', data=feature_importances.head(20),\n",
    "            label=\"Total\", color=\"b\")\n",
    "plt.show()"
   ]
  },
  {
   "cell_type": "markdown",
   "metadata": {},
   "source": [
    "I'll go over the most important features here. I'll start with the definition of the feature and and explain how our model interprets its importance to predicting default. \n",
    "\n",
    "last_fico_range_high - Most recent credit pull is the best predictor as we would expect. Recent delinquent credit such as missed or late payments on any account, defaulted loans, or newly opened credit obligations will all bring this number down.\n",
    "\n",
    "mo_sin_old_rev_tl_op - Months since oldest revolving account opened. Revolving accounts are lines of credit such as credit cards. A low number here indicates a lack of credit history indicating that the borrower doesn't have a history of paying debts off so we would expect them to be more likely to default.\n",
    "\n",
    "loan_amnt & installment - The installment (monthly payment) will vary based on the loan amount and interest rate. The higher the loan amount, and thus the monthly payment, the more likely the default. \n",
    "\n",
    "total_acc & dti - The total number of credit lines currently in the borrower's credit file and debt to income. The more accounts, the more debt obligations, the more likely a customer is to default. DTI is the actual ratio of the monthly debts of these accounts over the borrower's income. It's essentially a measure of the borrower's capacity for more debt. \n",
    "\n",
    "int_rate - Interest rate is a chicken or egg dilemma. Higher interest rates are assigned to riskier borrowers to get investors to take them on but the interest rate itself makes the loan more difficult to pay off. The lower the interest rate the more likely the borrower is not default. \n",
    "\n",
    "annual_inc - Annual income. Obviously if a borrower has low annual income, we would expect them to be more likely to default. \n",
    "\n",
    "mths_since_recent_il - Months since most recent installment accounts opened. Installment accounts are loans. If a borrower hasn't taken on any other installment loans recently, they should be more prepared to pay off their loan. \n",
    "\n",
    "\n"
   ]
  }
 ],
 "metadata": {
  "colab": {
   "collapsed_sections": [],
   "name": "Hyperparameteropt.ipynb",
   "provenance": []
  },
  "kernelspec": {
   "display_name": "Python 3",
   "language": "python",
   "name": "python3"
  },
  "language_info": {
   "codemirror_mode": {
    "name": "ipython",
    "version": 3
   },
   "file_extension": ".py",
   "mimetype": "text/x-python",
   "name": "python",
   "nbconvert_exporter": "python",
   "pygments_lexer": "ipython3",
   "version": "3.7.3"
  }
 },
 "nbformat": 4,
 "nbformat_minor": 1
}
